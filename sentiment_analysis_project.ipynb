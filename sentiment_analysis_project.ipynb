{
  "nbformat": 4,
  "nbformat_minor": 0,
  "metadata": {
    "colab": {
      "provenance": []
    },
    "kernelspec": {
      "name": "python3",
      "display_name": "Python 3"
    },
    "language_info": {
      "name": "python"
    },
    "widgets": {
      "application/vnd.jupyter.widget-state+json": {
        "d604231e81684917af5e403c368721f7": {
          "model_module": "@jupyter-widgets/controls",
          "model_name": "HBoxModel",
          "model_module_version": "1.5.0",
          "state": {
            "_dom_classes": [],
            "_model_module": "@jupyter-widgets/controls",
            "_model_module_version": "1.5.0",
            "_model_name": "HBoxModel",
            "_view_count": null,
            "_view_module": "@jupyter-widgets/controls",
            "_view_module_version": "1.5.0",
            "_view_name": "HBoxView",
            "box_style": "",
            "children": [
              "IPY_MODEL_19aececb3a9d4045867a5629287900a8",
              "IPY_MODEL_50702a28578c40f2aaaf1dc214d818ce",
              "IPY_MODEL_3e7201a05da5472aa8bc5e99cb2827d8"
            ],
            "layout": "IPY_MODEL_d61bba1b181845e6bdba0c77df9d4ee1"
          }
        },
        "19aececb3a9d4045867a5629287900a8": {
          "model_module": "@jupyter-widgets/controls",
          "model_name": "HTMLModel",
          "model_module_version": "1.5.0",
          "state": {
            "_dom_classes": [],
            "_model_module": "@jupyter-widgets/controls",
            "_model_module_version": "1.5.0",
            "_model_name": "HTMLModel",
            "_view_count": null,
            "_view_module": "@jupyter-widgets/controls",
            "_view_module_version": "1.5.0",
            "_view_name": "HTMLView",
            "description": "",
            "description_tooltip": null,
            "layout": "IPY_MODEL_cbe78313c4064a32a66251110f12867e",
            "placeholder": "​",
            "style": "IPY_MODEL_c48ccf38557048de8ffaab2a13632ea7",
            "value": "100%"
          }
        },
        "50702a28578c40f2aaaf1dc214d818ce": {
          "model_module": "@jupyter-widgets/controls",
          "model_name": "FloatProgressModel",
          "model_module_version": "1.5.0",
          "state": {
            "_dom_classes": [],
            "_model_module": "@jupyter-widgets/controls",
            "_model_module_version": "1.5.0",
            "_model_name": "FloatProgressModel",
            "_view_count": null,
            "_view_module": "@jupyter-widgets/controls",
            "_view_module_version": "1.5.0",
            "_view_name": "ProgressView",
            "bar_style": "success",
            "description": "",
            "description_tooltip": null,
            "layout": "IPY_MODEL_fe205c2d897a4ea6b4ef3a547ae18116",
            "max": 45,
            "min": 0,
            "orientation": "horizontal",
            "style": "IPY_MODEL_d7b007258ba8414dab0f296cf6fda9ab",
            "value": 45
          }
        },
        "3e7201a05da5472aa8bc5e99cb2827d8": {
          "model_module": "@jupyter-widgets/controls",
          "model_name": "HTMLModel",
          "model_module_version": "1.5.0",
          "state": {
            "_dom_classes": [],
            "_model_module": "@jupyter-widgets/controls",
            "_model_module_version": "1.5.0",
            "_model_name": "HTMLModel",
            "_view_count": null,
            "_view_module": "@jupyter-widgets/controls",
            "_view_module_version": "1.5.0",
            "_view_name": "HTMLView",
            "description": "",
            "description_tooltip": null,
            "layout": "IPY_MODEL_ae69c2e97bda473fbe24fbd83aeaca5a",
            "placeholder": "​",
            "style": "IPY_MODEL_3d91664748224d688f4415e69a26f258",
            "value": " 45/45 [00:00&lt;00:00, 109.13it/s]"
          }
        },
        "d61bba1b181845e6bdba0c77df9d4ee1": {
          "model_module": "@jupyter-widgets/base",
          "model_name": "LayoutModel",
          "model_module_version": "1.2.0",
          "state": {
            "_model_module": "@jupyter-widgets/base",
            "_model_module_version": "1.2.0",
            "_model_name": "LayoutModel",
            "_view_count": null,
            "_view_module": "@jupyter-widgets/base",
            "_view_module_version": "1.2.0",
            "_view_name": "LayoutView",
            "align_content": null,
            "align_items": null,
            "align_self": null,
            "border": null,
            "bottom": null,
            "display": null,
            "flex": null,
            "flex_flow": null,
            "grid_area": null,
            "grid_auto_columns": null,
            "grid_auto_flow": null,
            "grid_auto_rows": null,
            "grid_column": null,
            "grid_gap": null,
            "grid_row": null,
            "grid_template_areas": null,
            "grid_template_columns": null,
            "grid_template_rows": null,
            "height": null,
            "justify_content": null,
            "justify_items": null,
            "left": null,
            "margin": null,
            "max_height": null,
            "max_width": null,
            "min_height": null,
            "min_width": null,
            "object_fit": null,
            "object_position": null,
            "order": null,
            "overflow": null,
            "overflow_x": null,
            "overflow_y": null,
            "padding": null,
            "right": null,
            "top": null,
            "visibility": null,
            "width": null
          }
        },
        "cbe78313c4064a32a66251110f12867e": {
          "model_module": "@jupyter-widgets/base",
          "model_name": "LayoutModel",
          "model_module_version": "1.2.0",
          "state": {
            "_model_module": "@jupyter-widgets/base",
            "_model_module_version": "1.2.0",
            "_model_name": "LayoutModel",
            "_view_count": null,
            "_view_module": "@jupyter-widgets/base",
            "_view_module_version": "1.2.0",
            "_view_name": "LayoutView",
            "align_content": null,
            "align_items": null,
            "align_self": null,
            "border": null,
            "bottom": null,
            "display": null,
            "flex": null,
            "flex_flow": null,
            "grid_area": null,
            "grid_auto_columns": null,
            "grid_auto_flow": null,
            "grid_auto_rows": null,
            "grid_column": null,
            "grid_gap": null,
            "grid_row": null,
            "grid_template_areas": null,
            "grid_template_columns": null,
            "grid_template_rows": null,
            "height": null,
            "justify_content": null,
            "justify_items": null,
            "left": null,
            "margin": null,
            "max_height": null,
            "max_width": null,
            "min_height": null,
            "min_width": null,
            "object_fit": null,
            "object_position": null,
            "order": null,
            "overflow": null,
            "overflow_x": null,
            "overflow_y": null,
            "padding": null,
            "right": null,
            "top": null,
            "visibility": null,
            "width": null
          }
        },
        "c48ccf38557048de8ffaab2a13632ea7": {
          "model_module": "@jupyter-widgets/controls",
          "model_name": "DescriptionStyleModel",
          "model_module_version": "1.5.0",
          "state": {
            "_model_module": "@jupyter-widgets/controls",
            "_model_module_version": "1.5.0",
            "_model_name": "DescriptionStyleModel",
            "_view_count": null,
            "_view_module": "@jupyter-widgets/base",
            "_view_module_version": "1.2.0",
            "_view_name": "StyleView",
            "description_width": ""
          }
        },
        "fe205c2d897a4ea6b4ef3a547ae18116": {
          "model_module": "@jupyter-widgets/base",
          "model_name": "LayoutModel",
          "model_module_version": "1.2.0",
          "state": {
            "_model_module": "@jupyter-widgets/base",
            "_model_module_version": "1.2.0",
            "_model_name": "LayoutModel",
            "_view_count": null,
            "_view_module": "@jupyter-widgets/base",
            "_view_module_version": "1.2.0",
            "_view_name": "LayoutView",
            "align_content": null,
            "align_items": null,
            "align_self": null,
            "border": null,
            "bottom": null,
            "display": null,
            "flex": null,
            "flex_flow": null,
            "grid_area": null,
            "grid_auto_columns": null,
            "grid_auto_flow": null,
            "grid_auto_rows": null,
            "grid_column": null,
            "grid_gap": null,
            "grid_row": null,
            "grid_template_areas": null,
            "grid_template_columns": null,
            "grid_template_rows": null,
            "height": null,
            "justify_content": null,
            "justify_items": null,
            "left": null,
            "margin": null,
            "max_height": null,
            "max_width": null,
            "min_height": null,
            "min_width": null,
            "object_fit": null,
            "object_position": null,
            "order": null,
            "overflow": null,
            "overflow_x": null,
            "overflow_y": null,
            "padding": null,
            "right": null,
            "top": null,
            "visibility": null,
            "width": null
          }
        },
        "d7b007258ba8414dab0f296cf6fda9ab": {
          "model_module": "@jupyter-widgets/controls",
          "model_name": "ProgressStyleModel",
          "model_module_version": "1.5.0",
          "state": {
            "_model_module": "@jupyter-widgets/controls",
            "_model_module_version": "1.5.0",
            "_model_name": "ProgressStyleModel",
            "_view_count": null,
            "_view_module": "@jupyter-widgets/base",
            "_view_module_version": "1.2.0",
            "_view_name": "StyleView",
            "bar_color": null,
            "description_width": ""
          }
        },
        "ae69c2e97bda473fbe24fbd83aeaca5a": {
          "model_module": "@jupyter-widgets/base",
          "model_name": "LayoutModel",
          "model_module_version": "1.2.0",
          "state": {
            "_model_module": "@jupyter-widgets/base",
            "_model_module_version": "1.2.0",
            "_model_name": "LayoutModel",
            "_view_count": null,
            "_view_module": "@jupyter-widgets/base",
            "_view_module_version": "1.2.0",
            "_view_name": "LayoutView",
            "align_content": null,
            "align_items": null,
            "align_self": null,
            "border": null,
            "bottom": null,
            "display": null,
            "flex": null,
            "flex_flow": null,
            "grid_area": null,
            "grid_auto_columns": null,
            "grid_auto_flow": null,
            "grid_auto_rows": null,
            "grid_column": null,
            "grid_gap": null,
            "grid_row": null,
            "grid_template_areas": null,
            "grid_template_columns": null,
            "grid_template_rows": null,
            "height": null,
            "justify_content": null,
            "justify_items": null,
            "left": null,
            "margin": null,
            "max_height": null,
            "max_width": null,
            "min_height": null,
            "min_width": null,
            "object_fit": null,
            "object_position": null,
            "order": null,
            "overflow": null,
            "overflow_x": null,
            "overflow_y": null,
            "padding": null,
            "right": null,
            "top": null,
            "visibility": null,
            "width": null
          }
        },
        "3d91664748224d688f4415e69a26f258": {
          "model_module": "@jupyter-widgets/controls",
          "model_name": "DescriptionStyleModel",
          "model_module_version": "1.5.0",
          "state": {
            "_model_module": "@jupyter-widgets/controls",
            "_model_module_version": "1.5.0",
            "_model_name": "DescriptionStyleModel",
            "_view_count": null,
            "_view_module": "@jupyter-widgets/base",
            "_view_module_version": "1.2.0",
            "_view_name": "StyleView",
            "description_width": ""
          }
        },
        "40cfd52111294b2a9b0118a69c6ae7aa": {
          "model_module": "@jupyter-widgets/controls",
          "model_name": "HBoxModel",
          "model_module_version": "1.5.0",
          "state": {
            "_dom_classes": [],
            "_model_module": "@jupyter-widgets/controls",
            "_model_module_version": "1.5.0",
            "_model_name": "HBoxModel",
            "_view_count": null,
            "_view_module": "@jupyter-widgets/controls",
            "_view_module_version": "1.5.0",
            "_view_name": "HBoxView",
            "box_style": "",
            "children": [
              "IPY_MODEL_1e9baf12e60d449bb202fc37d619687b",
              "IPY_MODEL_2c9499255b734072ac9d4493140a8089",
              "IPY_MODEL_ee899cc4590f40c08986bc77d53ef515"
            ],
            "layout": "IPY_MODEL_38c57ad718be47b88895830185212bcd"
          }
        },
        "1e9baf12e60d449bb202fc37d619687b": {
          "model_module": "@jupyter-widgets/controls",
          "model_name": "HTMLModel",
          "model_module_version": "1.5.0",
          "state": {
            "_dom_classes": [],
            "_model_module": "@jupyter-widgets/controls",
            "_model_module_version": "1.5.0",
            "_model_name": "HTMLModel",
            "_view_count": null,
            "_view_module": "@jupyter-widgets/controls",
            "_view_module_version": "1.5.0",
            "_view_name": "HTMLView",
            "description": "",
            "description_tooltip": null,
            "layout": "IPY_MODEL_8149ea3fc0bc491eb830b4705c5cb742",
            "placeholder": "​",
            "style": "IPY_MODEL_f79955eb0a544844a2877ba1c58d7b59",
            "value": "100%"
          }
        },
        "2c9499255b734072ac9d4493140a8089": {
          "model_module": "@jupyter-widgets/controls",
          "model_name": "FloatProgressModel",
          "model_module_version": "1.5.0",
          "state": {
            "_dom_classes": [],
            "_model_module": "@jupyter-widgets/controls",
            "_model_module_version": "1.5.0",
            "_model_name": "FloatProgressModel",
            "_view_count": null,
            "_view_module": "@jupyter-widgets/controls",
            "_view_module_version": "1.5.0",
            "_view_name": "ProgressView",
            "bar_style": "success",
            "description": "",
            "description_tooltip": null,
            "layout": "IPY_MODEL_9ac6eabd2b6648e8812db83aa4e65a4d",
            "max": 71643,
            "min": 0,
            "orientation": "horizontal",
            "style": "IPY_MODEL_5b2e4d9c504a4f6491d08d01f319099b",
            "value": 71643
          }
        },
        "ee899cc4590f40c08986bc77d53ef515": {
          "model_module": "@jupyter-widgets/controls",
          "model_name": "HTMLModel",
          "model_module_version": "1.5.0",
          "state": {
            "_dom_classes": [],
            "_model_module": "@jupyter-widgets/controls",
            "_model_module_version": "1.5.0",
            "_model_name": "HTMLModel",
            "_view_count": null,
            "_view_module": "@jupyter-widgets/controls",
            "_view_module_version": "1.5.0",
            "_view_name": "HTMLView",
            "description": "",
            "description_tooltip": null,
            "layout": "IPY_MODEL_fbb4ff22d2494a91aef55b0e64ef6689",
            "placeholder": "​",
            "style": "IPY_MODEL_bac644f9eecf47eab5720b579b9511c6",
            "value": " 71643/71643 [01:38&lt;00:00, 822.35it/s]"
          }
        },
        "38c57ad718be47b88895830185212bcd": {
          "model_module": "@jupyter-widgets/base",
          "model_name": "LayoutModel",
          "model_module_version": "1.2.0",
          "state": {
            "_model_module": "@jupyter-widgets/base",
            "_model_module_version": "1.2.0",
            "_model_name": "LayoutModel",
            "_view_count": null,
            "_view_module": "@jupyter-widgets/base",
            "_view_module_version": "1.2.0",
            "_view_name": "LayoutView",
            "align_content": null,
            "align_items": null,
            "align_self": null,
            "border": null,
            "bottom": null,
            "display": null,
            "flex": null,
            "flex_flow": null,
            "grid_area": null,
            "grid_auto_columns": null,
            "grid_auto_flow": null,
            "grid_auto_rows": null,
            "grid_column": null,
            "grid_gap": null,
            "grid_row": null,
            "grid_template_areas": null,
            "grid_template_columns": null,
            "grid_template_rows": null,
            "height": null,
            "justify_content": null,
            "justify_items": null,
            "left": null,
            "margin": null,
            "max_height": null,
            "max_width": null,
            "min_height": null,
            "min_width": null,
            "object_fit": null,
            "object_position": null,
            "order": null,
            "overflow": null,
            "overflow_x": null,
            "overflow_y": null,
            "padding": null,
            "right": null,
            "top": null,
            "visibility": null,
            "width": null
          }
        },
        "8149ea3fc0bc491eb830b4705c5cb742": {
          "model_module": "@jupyter-widgets/base",
          "model_name": "LayoutModel",
          "model_module_version": "1.2.0",
          "state": {
            "_model_module": "@jupyter-widgets/base",
            "_model_module_version": "1.2.0",
            "_model_name": "LayoutModel",
            "_view_count": null,
            "_view_module": "@jupyter-widgets/base",
            "_view_module_version": "1.2.0",
            "_view_name": "LayoutView",
            "align_content": null,
            "align_items": null,
            "align_self": null,
            "border": null,
            "bottom": null,
            "display": null,
            "flex": null,
            "flex_flow": null,
            "grid_area": null,
            "grid_auto_columns": null,
            "grid_auto_flow": null,
            "grid_auto_rows": null,
            "grid_column": null,
            "grid_gap": null,
            "grid_row": null,
            "grid_template_areas": null,
            "grid_template_columns": null,
            "grid_template_rows": null,
            "height": null,
            "justify_content": null,
            "justify_items": null,
            "left": null,
            "margin": null,
            "max_height": null,
            "max_width": null,
            "min_height": null,
            "min_width": null,
            "object_fit": null,
            "object_position": null,
            "order": null,
            "overflow": null,
            "overflow_x": null,
            "overflow_y": null,
            "padding": null,
            "right": null,
            "top": null,
            "visibility": null,
            "width": null
          }
        },
        "f79955eb0a544844a2877ba1c58d7b59": {
          "model_module": "@jupyter-widgets/controls",
          "model_name": "DescriptionStyleModel",
          "model_module_version": "1.5.0",
          "state": {
            "_model_module": "@jupyter-widgets/controls",
            "_model_module_version": "1.5.0",
            "_model_name": "DescriptionStyleModel",
            "_view_count": null,
            "_view_module": "@jupyter-widgets/base",
            "_view_module_version": "1.2.0",
            "_view_name": "StyleView",
            "description_width": ""
          }
        },
        "9ac6eabd2b6648e8812db83aa4e65a4d": {
          "model_module": "@jupyter-widgets/base",
          "model_name": "LayoutModel",
          "model_module_version": "1.2.0",
          "state": {
            "_model_module": "@jupyter-widgets/base",
            "_model_module_version": "1.2.0",
            "_model_name": "LayoutModel",
            "_view_count": null,
            "_view_module": "@jupyter-widgets/base",
            "_view_module_version": "1.2.0",
            "_view_name": "LayoutView",
            "align_content": null,
            "align_items": null,
            "align_self": null,
            "border": null,
            "bottom": null,
            "display": null,
            "flex": null,
            "flex_flow": null,
            "grid_area": null,
            "grid_auto_columns": null,
            "grid_auto_flow": null,
            "grid_auto_rows": null,
            "grid_column": null,
            "grid_gap": null,
            "grid_row": null,
            "grid_template_areas": null,
            "grid_template_columns": null,
            "grid_template_rows": null,
            "height": null,
            "justify_content": null,
            "justify_items": null,
            "left": null,
            "margin": null,
            "max_height": null,
            "max_width": null,
            "min_height": null,
            "min_width": null,
            "object_fit": null,
            "object_position": null,
            "order": null,
            "overflow": null,
            "overflow_x": null,
            "overflow_y": null,
            "padding": null,
            "right": null,
            "top": null,
            "visibility": null,
            "width": null
          }
        },
        "5b2e4d9c504a4f6491d08d01f319099b": {
          "model_module": "@jupyter-widgets/controls",
          "model_name": "ProgressStyleModel",
          "model_module_version": "1.5.0",
          "state": {
            "_model_module": "@jupyter-widgets/controls",
            "_model_module_version": "1.5.0",
            "_model_name": "ProgressStyleModel",
            "_view_count": null,
            "_view_module": "@jupyter-widgets/base",
            "_view_module_version": "1.2.0",
            "_view_name": "StyleView",
            "bar_color": null,
            "description_width": ""
          }
        },
        "fbb4ff22d2494a91aef55b0e64ef6689": {
          "model_module": "@jupyter-widgets/base",
          "model_name": "LayoutModel",
          "model_module_version": "1.2.0",
          "state": {
            "_model_module": "@jupyter-widgets/base",
            "_model_module_version": "1.2.0",
            "_model_name": "LayoutModel",
            "_view_count": null,
            "_view_module": "@jupyter-widgets/base",
            "_view_module_version": "1.2.0",
            "_view_name": "LayoutView",
            "align_content": null,
            "align_items": null,
            "align_self": null,
            "border": null,
            "bottom": null,
            "display": null,
            "flex": null,
            "flex_flow": null,
            "grid_area": null,
            "grid_auto_columns": null,
            "grid_auto_flow": null,
            "grid_auto_rows": null,
            "grid_column": null,
            "grid_gap": null,
            "grid_row": null,
            "grid_template_areas": null,
            "grid_template_columns": null,
            "grid_template_rows": null,
            "height": null,
            "justify_content": null,
            "justify_items": null,
            "left": null,
            "margin": null,
            "max_height": null,
            "max_width": null,
            "min_height": null,
            "min_width": null,
            "object_fit": null,
            "object_position": null,
            "order": null,
            "overflow": null,
            "overflow_x": null,
            "overflow_y": null,
            "padding": null,
            "right": null,
            "top": null,
            "visibility": null,
            "width": null
          }
        },
        "bac644f9eecf47eab5720b579b9511c6": {
          "model_module": "@jupyter-widgets/controls",
          "model_name": "DescriptionStyleModel",
          "model_module_version": "1.5.0",
          "state": {
            "_model_module": "@jupyter-widgets/controls",
            "_model_module_version": "1.5.0",
            "_model_name": "DescriptionStyleModel",
            "_view_count": null,
            "_view_module": "@jupyter-widgets/base",
            "_view_module_version": "1.2.0",
            "_view_name": "StyleView",
            "description_width": ""
          }
        },
        "b1b5443d290a42f2b6a5fdfef895cd8d": {
          "model_module": "@jupyter-widgets/controls",
          "model_name": "HBoxModel",
          "model_module_version": "1.5.0",
          "state": {
            "_dom_classes": [],
            "_model_module": "@jupyter-widgets/controls",
            "_model_module_version": "1.5.0",
            "_model_name": "HBoxModel",
            "_view_count": null,
            "_view_module": "@jupyter-widgets/controls",
            "_view_module_version": "1.5.0",
            "_view_name": "HBoxView",
            "box_style": "",
            "children": [
              "IPY_MODEL_646b71b79dda479fb8d646314c118ae1",
              "IPY_MODEL_3a2b4499d8a641b7a63871cb81cec5b1",
              "IPY_MODEL_fad5d221dfb346b79c81a5c24d887c0f"
            ],
            "layout": "IPY_MODEL_d31992ba020a4cfaa83c9339c844f725"
          }
        },
        "646b71b79dda479fb8d646314c118ae1": {
          "model_module": "@jupyter-widgets/controls",
          "model_name": "HTMLModel",
          "model_module_version": "1.5.0",
          "state": {
            "_dom_classes": [],
            "_model_module": "@jupyter-widgets/controls",
            "_model_module_version": "1.5.0",
            "_model_name": "HTMLModel",
            "_view_count": null,
            "_view_module": "@jupyter-widgets/controls",
            "_view_module_version": "1.5.0",
            "_view_name": "HTMLView",
            "description": "",
            "description_tooltip": null,
            "layout": "IPY_MODEL_caaba8dd54f943e7b2001f542fcc342a",
            "placeholder": "​",
            "style": "IPY_MODEL_e0c941b755434542a8f2a6cc848e2178",
            "value": "100%"
          }
        },
        "3a2b4499d8a641b7a63871cb81cec5b1": {
          "model_module": "@jupyter-widgets/controls",
          "model_name": "FloatProgressModel",
          "model_module_version": "1.5.0",
          "state": {
            "_dom_classes": [],
            "_model_module": "@jupyter-widgets/controls",
            "_model_module_version": "1.5.0",
            "_model_name": "FloatProgressModel",
            "_view_count": null,
            "_view_module": "@jupyter-widgets/controls",
            "_view_module_version": "1.5.0",
            "_view_name": "ProgressView",
            "bar_style": "success",
            "description": "",
            "description_tooltip": null,
            "layout": "IPY_MODEL_69dafb7ef6bf4769b0d9ca243e04f053",
            "max": 71643,
            "min": 0,
            "orientation": "horizontal",
            "style": "IPY_MODEL_990f270fa9dc4a2c97bacca74d459ff4",
            "value": 71643
          }
        },
        "fad5d221dfb346b79c81a5c24d887c0f": {
          "model_module": "@jupyter-widgets/controls",
          "model_name": "HTMLModel",
          "model_module_version": "1.5.0",
          "state": {
            "_dom_classes": [],
            "_model_module": "@jupyter-widgets/controls",
            "_model_module_version": "1.5.0",
            "_model_name": "HTMLModel",
            "_view_count": null,
            "_view_module": "@jupyter-widgets/controls",
            "_view_module_version": "1.5.0",
            "_view_name": "HTMLView",
            "description": "",
            "description_tooltip": null,
            "layout": "IPY_MODEL_f4a1f81ba672472aa35613e657846d3c",
            "placeholder": "​",
            "style": "IPY_MODEL_f8e0080dff554cc6a3a572ea0a664917",
            "value": " 71643/71643 [01:27&lt;00:00, 983.80it/s]"
          }
        },
        "d31992ba020a4cfaa83c9339c844f725": {
          "model_module": "@jupyter-widgets/base",
          "model_name": "LayoutModel",
          "model_module_version": "1.2.0",
          "state": {
            "_model_module": "@jupyter-widgets/base",
            "_model_module_version": "1.2.0",
            "_model_name": "LayoutModel",
            "_view_count": null,
            "_view_module": "@jupyter-widgets/base",
            "_view_module_version": "1.2.0",
            "_view_name": "LayoutView",
            "align_content": null,
            "align_items": null,
            "align_self": null,
            "border": null,
            "bottom": null,
            "display": null,
            "flex": null,
            "flex_flow": null,
            "grid_area": null,
            "grid_auto_columns": null,
            "grid_auto_flow": null,
            "grid_auto_rows": null,
            "grid_column": null,
            "grid_gap": null,
            "grid_row": null,
            "grid_template_areas": null,
            "grid_template_columns": null,
            "grid_template_rows": null,
            "height": null,
            "justify_content": null,
            "justify_items": null,
            "left": null,
            "margin": null,
            "max_height": null,
            "max_width": null,
            "min_height": null,
            "min_width": null,
            "object_fit": null,
            "object_position": null,
            "order": null,
            "overflow": null,
            "overflow_x": null,
            "overflow_y": null,
            "padding": null,
            "right": null,
            "top": null,
            "visibility": null,
            "width": null
          }
        },
        "caaba8dd54f943e7b2001f542fcc342a": {
          "model_module": "@jupyter-widgets/base",
          "model_name": "LayoutModel",
          "model_module_version": "1.2.0",
          "state": {
            "_model_module": "@jupyter-widgets/base",
            "_model_module_version": "1.2.0",
            "_model_name": "LayoutModel",
            "_view_count": null,
            "_view_module": "@jupyter-widgets/base",
            "_view_module_version": "1.2.0",
            "_view_name": "LayoutView",
            "align_content": null,
            "align_items": null,
            "align_self": null,
            "border": null,
            "bottom": null,
            "display": null,
            "flex": null,
            "flex_flow": null,
            "grid_area": null,
            "grid_auto_columns": null,
            "grid_auto_flow": null,
            "grid_auto_rows": null,
            "grid_column": null,
            "grid_gap": null,
            "grid_row": null,
            "grid_template_areas": null,
            "grid_template_columns": null,
            "grid_template_rows": null,
            "height": null,
            "justify_content": null,
            "justify_items": null,
            "left": null,
            "margin": null,
            "max_height": null,
            "max_width": null,
            "min_height": null,
            "min_width": null,
            "object_fit": null,
            "object_position": null,
            "order": null,
            "overflow": null,
            "overflow_x": null,
            "overflow_y": null,
            "padding": null,
            "right": null,
            "top": null,
            "visibility": null,
            "width": null
          }
        },
        "e0c941b755434542a8f2a6cc848e2178": {
          "model_module": "@jupyter-widgets/controls",
          "model_name": "DescriptionStyleModel",
          "model_module_version": "1.5.0",
          "state": {
            "_model_module": "@jupyter-widgets/controls",
            "_model_module_version": "1.5.0",
            "_model_name": "DescriptionStyleModel",
            "_view_count": null,
            "_view_module": "@jupyter-widgets/base",
            "_view_module_version": "1.2.0",
            "_view_name": "StyleView",
            "description_width": ""
          }
        },
        "69dafb7ef6bf4769b0d9ca243e04f053": {
          "model_module": "@jupyter-widgets/base",
          "model_name": "LayoutModel",
          "model_module_version": "1.2.0",
          "state": {
            "_model_module": "@jupyter-widgets/base",
            "_model_module_version": "1.2.0",
            "_model_name": "LayoutModel",
            "_view_count": null,
            "_view_module": "@jupyter-widgets/base",
            "_view_module_version": "1.2.0",
            "_view_name": "LayoutView",
            "align_content": null,
            "align_items": null,
            "align_self": null,
            "border": null,
            "bottom": null,
            "display": null,
            "flex": null,
            "flex_flow": null,
            "grid_area": null,
            "grid_auto_columns": null,
            "grid_auto_flow": null,
            "grid_auto_rows": null,
            "grid_column": null,
            "grid_gap": null,
            "grid_row": null,
            "grid_template_areas": null,
            "grid_template_columns": null,
            "grid_template_rows": null,
            "height": null,
            "justify_content": null,
            "justify_items": null,
            "left": null,
            "margin": null,
            "max_height": null,
            "max_width": null,
            "min_height": null,
            "min_width": null,
            "object_fit": null,
            "object_position": null,
            "order": null,
            "overflow": null,
            "overflow_x": null,
            "overflow_y": null,
            "padding": null,
            "right": null,
            "top": null,
            "visibility": null,
            "width": null
          }
        },
        "990f270fa9dc4a2c97bacca74d459ff4": {
          "model_module": "@jupyter-widgets/controls",
          "model_name": "ProgressStyleModel",
          "model_module_version": "1.5.0",
          "state": {
            "_model_module": "@jupyter-widgets/controls",
            "_model_module_version": "1.5.0",
            "_model_name": "ProgressStyleModel",
            "_view_count": null,
            "_view_module": "@jupyter-widgets/base",
            "_view_module_version": "1.2.0",
            "_view_name": "StyleView",
            "bar_color": null,
            "description_width": ""
          }
        },
        "f4a1f81ba672472aa35613e657846d3c": {
          "model_module": "@jupyter-widgets/base",
          "model_name": "LayoutModel",
          "model_module_version": "1.2.0",
          "state": {
            "_model_module": "@jupyter-widgets/base",
            "_model_module_version": "1.2.0",
            "_model_name": "LayoutModel",
            "_view_count": null,
            "_view_module": "@jupyter-widgets/base",
            "_view_module_version": "1.2.0",
            "_view_name": "LayoutView",
            "align_content": null,
            "align_items": null,
            "align_self": null,
            "border": null,
            "bottom": null,
            "display": null,
            "flex": null,
            "flex_flow": null,
            "grid_area": null,
            "grid_auto_columns": null,
            "grid_auto_flow": null,
            "grid_auto_rows": null,
            "grid_column": null,
            "grid_gap": null,
            "grid_row": null,
            "grid_template_areas": null,
            "grid_template_columns": null,
            "grid_template_rows": null,
            "height": null,
            "justify_content": null,
            "justify_items": null,
            "left": null,
            "margin": null,
            "max_height": null,
            "max_width": null,
            "min_height": null,
            "min_width": null,
            "object_fit": null,
            "object_position": null,
            "order": null,
            "overflow": null,
            "overflow_x": null,
            "overflow_y": null,
            "padding": null,
            "right": null,
            "top": null,
            "visibility": null,
            "width": null
          }
        },
        "f8e0080dff554cc6a3a572ea0a664917": {
          "model_module": "@jupyter-widgets/controls",
          "model_name": "DescriptionStyleModel",
          "model_module_version": "1.5.0",
          "state": {
            "_model_module": "@jupyter-widgets/controls",
            "_model_module_version": "1.5.0",
            "_model_name": "DescriptionStyleModel",
            "_view_count": null,
            "_view_module": "@jupyter-widgets/base",
            "_view_module_version": "1.2.0",
            "_view_name": "StyleView",
            "description_width": ""
          }
        },
        "19e0437769bc479481317a8795464f68": {
          "model_module": "@jupyter-widgets/controls",
          "model_name": "HBoxModel",
          "model_module_version": "1.5.0",
          "state": {
            "_dom_classes": [],
            "_model_module": "@jupyter-widgets/controls",
            "_model_module_version": "1.5.0",
            "_model_name": "HBoxModel",
            "_view_count": null,
            "_view_module": "@jupyter-widgets/controls",
            "_view_module_version": "1.5.0",
            "_view_name": "HBoxView",
            "box_style": "",
            "children": [
              "IPY_MODEL_ba60656a378a4863a65e867ba4f3ccc4",
              "IPY_MODEL_52b25ad442ee43f984327cf7eafffdde",
              "IPY_MODEL_7c9f21f69d08451995a24f97cb2b0210"
            ],
            "layout": "IPY_MODEL_d93147f6d4694fcda000b3d8c16fa0a5"
          }
        },
        "ba60656a378a4863a65e867ba4f3ccc4": {
          "model_module": "@jupyter-widgets/controls",
          "model_name": "HTMLModel",
          "model_module_version": "1.5.0",
          "state": {
            "_dom_classes": [],
            "_model_module": "@jupyter-widgets/controls",
            "_model_module_version": "1.5.0",
            "_model_name": "HTMLModel",
            "_view_count": null,
            "_view_module": "@jupyter-widgets/controls",
            "_view_module_version": "1.5.0",
            "_view_name": "HTMLView",
            "description": "",
            "description_tooltip": null,
            "layout": "IPY_MODEL_2b3398b43e554188b0f26610cc0d1f37",
            "placeholder": "​",
            "style": "IPY_MODEL_06176bef1e474e5d8d663cb7f379c8e8",
            "value": "100%"
          }
        },
        "52b25ad442ee43f984327cf7eafffdde": {
          "model_module": "@jupyter-widgets/controls",
          "model_name": "FloatProgressModel",
          "model_module_version": "1.5.0",
          "state": {
            "_dom_classes": [],
            "_model_module": "@jupyter-widgets/controls",
            "_model_module_version": "1.5.0",
            "_model_name": "FloatProgressModel",
            "_view_count": null,
            "_view_module": "@jupyter-widgets/controls",
            "_view_module_version": "1.5.0",
            "_view_name": "ProgressView",
            "bar_style": "success",
            "description": "",
            "description_tooltip": null,
            "layout": "IPY_MODEL_9e7af5c5768841be880de66b13a48650",
            "max": 50000,
            "min": 0,
            "orientation": "horizontal",
            "style": "IPY_MODEL_545d433210d549d2931ac6798b95015f",
            "value": 50000
          }
        },
        "7c9f21f69d08451995a24f97cb2b0210": {
          "model_module": "@jupyter-widgets/controls",
          "model_name": "HTMLModel",
          "model_module_version": "1.5.0",
          "state": {
            "_dom_classes": [],
            "_model_module": "@jupyter-widgets/controls",
            "_model_module_version": "1.5.0",
            "_model_name": "HTMLModel",
            "_view_count": null,
            "_view_module": "@jupyter-widgets/controls",
            "_view_module_version": "1.5.0",
            "_view_name": "HTMLView",
            "description": "",
            "description_tooltip": null,
            "layout": "IPY_MODEL_2a92b61d444f47a1b9eff73e08bec447",
            "placeholder": "​",
            "style": "IPY_MODEL_7916d14bb874459681e144b398ac8f41",
            "value": " 50000/50000 [00:28&lt;00:00, 2524.03it/s]"
          }
        },
        "d93147f6d4694fcda000b3d8c16fa0a5": {
          "model_module": "@jupyter-widgets/base",
          "model_name": "LayoutModel",
          "model_module_version": "1.2.0",
          "state": {
            "_model_module": "@jupyter-widgets/base",
            "_model_module_version": "1.2.0",
            "_model_name": "LayoutModel",
            "_view_count": null,
            "_view_module": "@jupyter-widgets/base",
            "_view_module_version": "1.2.0",
            "_view_name": "LayoutView",
            "align_content": null,
            "align_items": null,
            "align_self": null,
            "border": null,
            "bottom": null,
            "display": null,
            "flex": null,
            "flex_flow": null,
            "grid_area": null,
            "grid_auto_columns": null,
            "grid_auto_flow": null,
            "grid_auto_rows": null,
            "grid_column": null,
            "grid_gap": null,
            "grid_row": null,
            "grid_template_areas": null,
            "grid_template_columns": null,
            "grid_template_rows": null,
            "height": null,
            "justify_content": null,
            "justify_items": null,
            "left": null,
            "margin": null,
            "max_height": null,
            "max_width": null,
            "min_height": null,
            "min_width": null,
            "object_fit": null,
            "object_position": null,
            "order": null,
            "overflow": null,
            "overflow_x": null,
            "overflow_y": null,
            "padding": null,
            "right": null,
            "top": null,
            "visibility": null,
            "width": null
          }
        },
        "2b3398b43e554188b0f26610cc0d1f37": {
          "model_module": "@jupyter-widgets/base",
          "model_name": "LayoutModel",
          "model_module_version": "1.2.0",
          "state": {
            "_model_module": "@jupyter-widgets/base",
            "_model_module_version": "1.2.0",
            "_model_name": "LayoutModel",
            "_view_count": null,
            "_view_module": "@jupyter-widgets/base",
            "_view_module_version": "1.2.0",
            "_view_name": "LayoutView",
            "align_content": null,
            "align_items": null,
            "align_self": null,
            "border": null,
            "bottom": null,
            "display": null,
            "flex": null,
            "flex_flow": null,
            "grid_area": null,
            "grid_auto_columns": null,
            "grid_auto_flow": null,
            "grid_auto_rows": null,
            "grid_column": null,
            "grid_gap": null,
            "grid_row": null,
            "grid_template_areas": null,
            "grid_template_columns": null,
            "grid_template_rows": null,
            "height": null,
            "justify_content": null,
            "justify_items": null,
            "left": null,
            "margin": null,
            "max_height": null,
            "max_width": null,
            "min_height": null,
            "min_width": null,
            "object_fit": null,
            "object_position": null,
            "order": null,
            "overflow": null,
            "overflow_x": null,
            "overflow_y": null,
            "padding": null,
            "right": null,
            "top": null,
            "visibility": null,
            "width": null
          }
        },
        "06176bef1e474e5d8d663cb7f379c8e8": {
          "model_module": "@jupyter-widgets/controls",
          "model_name": "DescriptionStyleModel",
          "model_module_version": "1.5.0",
          "state": {
            "_model_module": "@jupyter-widgets/controls",
            "_model_module_version": "1.5.0",
            "_model_name": "DescriptionStyleModel",
            "_view_count": null,
            "_view_module": "@jupyter-widgets/base",
            "_view_module_version": "1.2.0",
            "_view_name": "StyleView",
            "description_width": ""
          }
        },
        "9e7af5c5768841be880de66b13a48650": {
          "model_module": "@jupyter-widgets/base",
          "model_name": "LayoutModel",
          "model_module_version": "1.2.0",
          "state": {
            "_model_module": "@jupyter-widgets/base",
            "_model_module_version": "1.2.0",
            "_model_name": "LayoutModel",
            "_view_count": null,
            "_view_module": "@jupyter-widgets/base",
            "_view_module_version": "1.2.0",
            "_view_name": "LayoutView",
            "align_content": null,
            "align_items": null,
            "align_self": null,
            "border": null,
            "bottom": null,
            "display": null,
            "flex": null,
            "flex_flow": null,
            "grid_area": null,
            "grid_auto_columns": null,
            "grid_auto_flow": null,
            "grid_auto_rows": null,
            "grid_column": null,
            "grid_gap": null,
            "grid_row": null,
            "grid_template_areas": null,
            "grid_template_columns": null,
            "grid_template_rows": null,
            "height": null,
            "justify_content": null,
            "justify_items": null,
            "left": null,
            "margin": null,
            "max_height": null,
            "max_width": null,
            "min_height": null,
            "min_width": null,
            "object_fit": null,
            "object_position": null,
            "order": null,
            "overflow": null,
            "overflow_x": null,
            "overflow_y": null,
            "padding": null,
            "right": null,
            "top": null,
            "visibility": null,
            "width": null
          }
        },
        "545d433210d549d2931ac6798b95015f": {
          "model_module": "@jupyter-widgets/controls",
          "model_name": "ProgressStyleModel",
          "model_module_version": "1.5.0",
          "state": {
            "_model_module": "@jupyter-widgets/controls",
            "_model_module_version": "1.5.0",
            "_model_name": "ProgressStyleModel",
            "_view_count": null,
            "_view_module": "@jupyter-widgets/base",
            "_view_module_version": "1.2.0",
            "_view_name": "StyleView",
            "bar_color": null,
            "description_width": ""
          }
        },
        "2a92b61d444f47a1b9eff73e08bec447": {
          "model_module": "@jupyter-widgets/base",
          "model_name": "LayoutModel",
          "model_module_version": "1.2.0",
          "state": {
            "_model_module": "@jupyter-widgets/base",
            "_model_module_version": "1.2.0",
            "_model_name": "LayoutModel",
            "_view_count": null,
            "_view_module": "@jupyter-widgets/base",
            "_view_module_version": "1.2.0",
            "_view_name": "LayoutView",
            "align_content": null,
            "align_items": null,
            "align_self": null,
            "border": null,
            "bottom": null,
            "display": null,
            "flex": null,
            "flex_flow": null,
            "grid_area": null,
            "grid_auto_columns": null,
            "grid_auto_flow": null,
            "grid_auto_rows": null,
            "grid_column": null,
            "grid_gap": null,
            "grid_row": null,
            "grid_template_areas": null,
            "grid_template_columns": null,
            "grid_template_rows": null,
            "height": null,
            "justify_content": null,
            "justify_items": null,
            "left": null,
            "margin": null,
            "max_height": null,
            "max_width": null,
            "min_height": null,
            "min_width": null,
            "object_fit": null,
            "object_position": null,
            "order": null,
            "overflow": null,
            "overflow_x": null,
            "overflow_y": null,
            "padding": null,
            "right": null,
            "top": null,
            "visibility": null,
            "width": null
          }
        },
        "7916d14bb874459681e144b398ac8f41": {
          "model_module": "@jupyter-widgets/controls",
          "model_name": "DescriptionStyleModel",
          "model_module_version": "1.5.0",
          "state": {
            "_model_module": "@jupyter-widgets/controls",
            "_model_module_version": "1.5.0",
            "_model_name": "DescriptionStyleModel",
            "_view_count": null,
            "_view_module": "@jupyter-widgets/base",
            "_view_module_version": "1.2.0",
            "_view_name": "StyleView",
            "description_width": ""
          }
        },
        "9e76f0a2edf34f99ae67cc0b88c63411": {
          "model_module": "@jupyter-widgets/controls",
          "model_name": "HBoxModel",
          "model_module_version": "1.5.0",
          "state": {
            "_dom_classes": [],
            "_model_module": "@jupyter-widgets/controls",
            "_model_module_version": "1.5.0",
            "_model_name": "HBoxModel",
            "_view_count": null,
            "_view_module": "@jupyter-widgets/controls",
            "_view_module_version": "1.5.0",
            "_view_name": "HBoxView",
            "box_style": "",
            "children": [
              "IPY_MODEL_ce87bd8868854798b0bf6b35f1e096ab",
              "IPY_MODEL_c0a7328b60aa43b7a3b6d320b90a7745",
              "IPY_MODEL_774d5baca00e4e11bf89c5e3fdddfc79"
            ],
            "layout": "IPY_MODEL_faa87c8907664e5bad15dd2fc7c3f890"
          }
        },
        "ce87bd8868854798b0bf6b35f1e096ab": {
          "model_module": "@jupyter-widgets/controls",
          "model_name": "HTMLModel",
          "model_module_version": "1.5.0",
          "state": {
            "_dom_classes": [],
            "_model_module": "@jupyter-widgets/controls",
            "_model_module_version": "1.5.0",
            "_model_name": "HTMLModel",
            "_view_count": null,
            "_view_module": "@jupyter-widgets/controls",
            "_view_module_version": "1.5.0",
            "_view_name": "HTMLView",
            "description": "",
            "description_tooltip": null,
            "layout": "IPY_MODEL_db8a35fda37a409581010bbc74900c54",
            "placeholder": "​",
            "style": "IPY_MODEL_b6e503ff73c0459184766486ea6589bd",
            "value": "100%"
          }
        },
        "c0a7328b60aa43b7a3b6d320b90a7745": {
          "model_module": "@jupyter-widgets/controls",
          "model_name": "FloatProgressModel",
          "model_module_version": "1.5.0",
          "state": {
            "_dom_classes": [],
            "_model_module": "@jupyter-widgets/controls",
            "_model_module_version": "1.5.0",
            "_model_name": "FloatProgressModel",
            "_view_count": null,
            "_view_module": "@jupyter-widgets/controls",
            "_view_module_version": "1.5.0",
            "_view_name": "ProgressView",
            "bar_style": "success",
            "description": "",
            "description_tooltip": null,
            "layout": "IPY_MODEL_bac0874c822343d7bad6803414ca2be2",
            "max": 21643,
            "min": 0,
            "orientation": "horizontal",
            "style": "IPY_MODEL_2ecf21e3b61d44a88acaba6a03285f40",
            "value": 21643
          }
        },
        "774d5baca00e4e11bf89c5e3fdddfc79": {
          "model_module": "@jupyter-widgets/controls",
          "model_name": "HTMLModel",
          "model_module_version": "1.5.0",
          "state": {
            "_dom_classes": [],
            "_model_module": "@jupyter-widgets/controls",
            "_model_module_version": "1.5.0",
            "_model_name": "HTMLModel",
            "_view_count": null,
            "_view_module": "@jupyter-widgets/controls",
            "_view_module_version": "1.5.0",
            "_view_name": "HTMLView",
            "description": "",
            "description_tooltip": null,
            "layout": "IPY_MODEL_7f3bf42eb8134a8faf917ac25c02c03a",
            "placeholder": "​",
            "style": "IPY_MODEL_8d9c6aa94d8349c59f601f586b002ada",
            "value": " 21643/21643 [00:12&lt;00:00, 2336.25it/s]"
          }
        },
        "faa87c8907664e5bad15dd2fc7c3f890": {
          "model_module": "@jupyter-widgets/base",
          "model_name": "LayoutModel",
          "model_module_version": "1.2.0",
          "state": {
            "_model_module": "@jupyter-widgets/base",
            "_model_module_version": "1.2.0",
            "_model_name": "LayoutModel",
            "_view_count": null,
            "_view_module": "@jupyter-widgets/base",
            "_view_module_version": "1.2.0",
            "_view_name": "LayoutView",
            "align_content": null,
            "align_items": null,
            "align_self": null,
            "border": null,
            "bottom": null,
            "display": null,
            "flex": null,
            "flex_flow": null,
            "grid_area": null,
            "grid_auto_columns": null,
            "grid_auto_flow": null,
            "grid_auto_rows": null,
            "grid_column": null,
            "grid_gap": null,
            "grid_row": null,
            "grid_template_areas": null,
            "grid_template_columns": null,
            "grid_template_rows": null,
            "height": null,
            "justify_content": null,
            "justify_items": null,
            "left": null,
            "margin": null,
            "max_height": null,
            "max_width": null,
            "min_height": null,
            "min_width": null,
            "object_fit": null,
            "object_position": null,
            "order": null,
            "overflow": null,
            "overflow_x": null,
            "overflow_y": null,
            "padding": null,
            "right": null,
            "top": null,
            "visibility": null,
            "width": null
          }
        },
        "db8a35fda37a409581010bbc74900c54": {
          "model_module": "@jupyter-widgets/base",
          "model_name": "LayoutModel",
          "model_module_version": "1.2.0",
          "state": {
            "_model_module": "@jupyter-widgets/base",
            "_model_module_version": "1.2.0",
            "_model_name": "LayoutModel",
            "_view_count": null,
            "_view_module": "@jupyter-widgets/base",
            "_view_module_version": "1.2.0",
            "_view_name": "LayoutView",
            "align_content": null,
            "align_items": null,
            "align_self": null,
            "border": null,
            "bottom": null,
            "display": null,
            "flex": null,
            "flex_flow": null,
            "grid_area": null,
            "grid_auto_columns": null,
            "grid_auto_flow": null,
            "grid_auto_rows": null,
            "grid_column": null,
            "grid_gap": null,
            "grid_row": null,
            "grid_template_areas": null,
            "grid_template_columns": null,
            "grid_template_rows": null,
            "height": null,
            "justify_content": null,
            "justify_items": null,
            "left": null,
            "margin": null,
            "max_height": null,
            "max_width": null,
            "min_height": null,
            "min_width": null,
            "object_fit": null,
            "object_position": null,
            "order": null,
            "overflow": null,
            "overflow_x": null,
            "overflow_y": null,
            "padding": null,
            "right": null,
            "top": null,
            "visibility": null,
            "width": null
          }
        },
        "b6e503ff73c0459184766486ea6589bd": {
          "model_module": "@jupyter-widgets/controls",
          "model_name": "DescriptionStyleModel",
          "model_module_version": "1.5.0",
          "state": {
            "_model_module": "@jupyter-widgets/controls",
            "_model_module_version": "1.5.0",
            "_model_name": "DescriptionStyleModel",
            "_view_count": null,
            "_view_module": "@jupyter-widgets/base",
            "_view_module_version": "1.2.0",
            "_view_name": "StyleView",
            "description_width": ""
          }
        },
        "bac0874c822343d7bad6803414ca2be2": {
          "model_module": "@jupyter-widgets/base",
          "model_name": "LayoutModel",
          "model_module_version": "1.2.0",
          "state": {
            "_model_module": "@jupyter-widgets/base",
            "_model_module_version": "1.2.0",
            "_model_name": "LayoutModel",
            "_view_count": null,
            "_view_module": "@jupyter-widgets/base",
            "_view_module_version": "1.2.0",
            "_view_name": "LayoutView",
            "align_content": null,
            "align_items": null,
            "align_self": null,
            "border": null,
            "bottom": null,
            "display": null,
            "flex": null,
            "flex_flow": null,
            "grid_area": null,
            "grid_auto_columns": null,
            "grid_auto_flow": null,
            "grid_auto_rows": null,
            "grid_column": null,
            "grid_gap": null,
            "grid_row": null,
            "grid_template_areas": null,
            "grid_template_columns": null,
            "grid_template_rows": null,
            "height": null,
            "justify_content": null,
            "justify_items": null,
            "left": null,
            "margin": null,
            "max_height": null,
            "max_width": null,
            "min_height": null,
            "min_width": null,
            "object_fit": null,
            "object_position": null,
            "order": null,
            "overflow": null,
            "overflow_x": null,
            "overflow_y": null,
            "padding": null,
            "right": null,
            "top": null,
            "visibility": null,
            "width": null
          }
        },
        "2ecf21e3b61d44a88acaba6a03285f40": {
          "model_module": "@jupyter-widgets/controls",
          "model_name": "ProgressStyleModel",
          "model_module_version": "1.5.0",
          "state": {
            "_model_module": "@jupyter-widgets/controls",
            "_model_module_version": "1.5.0",
            "_model_name": "ProgressStyleModel",
            "_view_count": null,
            "_view_module": "@jupyter-widgets/base",
            "_view_module_version": "1.2.0",
            "_view_name": "StyleView",
            "bar_color": null,
            "description_width": ""
          }
        },
        "7f3bf42eb8134a8faf917ac25c02c03a": {
          "model_module": "@jupyter-widgets/base",
          "model_name": "LayoutModel",
          "model_module_version": "1.2.0",
          "state": {
            "_model_module": "@jupyter-widgets/base",
            "_model_module_version": "1.2.0",
            "_model_name": "LayoutModel",
            "_view_count": null,
            "_view_module": "@jupyter-widgets/base",
            "_view_module_version": "1.2.0",
            "_view_name": "LayoutView",
            "align_content": null,
            "align_items": null,
            "align_self": null,
            "border": null,
            "bottom": null,
            "display": null,
            "flex": null,
            "flex_flow": null,
            "grid_area": null,
            "grid_auto_columns": null,
            "grid_auto_flow": null,
            "grid_auto_rows": null,
            "grid_column": null,
            "grid_gap": null,
            "grid_row": null,
            "grid_template_areas": null,
            "grid_template_columns": null,
            "grid_template_rows": null,
            "height": null,
            "justify_content": null,
            "justify_items": null,
            "left": null,
            "margin": null,
            "max_height": null,
            "max_width": null,
            "min_height": null,
            "min_width": null,
            "object_fit": null,
            "object_position": null,
            "order": null,
            "overflow": null,
            "overflow_x": null,
            "overflow_y": null,
            "padding": null,
            "right": null,
            "top": null,
            "visibility": null,
            "width": null
          }
        },
        "8d9c6aa94d8349c59f601f586b002ada": {
          "model_module": "@jupyter-widgets/controls",
          "model_name": "DescriptionStyleModel",
          "model_module_version": "1.5.0",
          "state": {
            "_model_module": "@jupyter-widgets/controls",
            "_model_module_version": "1.5.0",
            "_model_name": "DescriptionStyleModel",
            "_view_count": null,
            "_view_module": "@jupyter-widgets/base",
            "_view_module_version": "1.2.0",
            "_view_name": "StyleView",
            "description_width": ""
          }
        }
      }
    }
  },
  "cells": [
    {
      "cell_type": "markdown",
      "source": [
        "# Imports"
      ],
      "metadata": {
        "id": "jPmzlVLLhNbE"
      }
    },
    {
      "cell_type": "code",
      "source": [
        "!pip install selenium\n",
        "!apt-get update\n",
        "!apt install chromium-chromedriver\n",
        "! pip install webdriver-manager\n",
        "\n",
        "\n",
        "from selenium import webdriver\n",
        "chrome_options = webdriver.ChromeOptions()\n",
        "chrome_options.add_argument('--headless')\n",
        "chrome_options.add_argument('--no-sandbox')\n",
        "chrome_options.add_argument('--disable-dev-shm-usage')\n",
        "\n",
        "from selenium.webdriver.common.by import By\n",
        "! mkdir reviews_pages\n",
        "! mkdir reviews\n",
        "pip install scikit-plot"
      ],
      "metadata": {
        "id": "UmI0nFCFhNMX"
      },
      "execution_count": null,
      "outputs": []
    },
    {
      "cell_type": "code",
      "execution_count": null,
      "metadata": {
        "colab": {
          "base_uri": "https://localhost:8080/",
          "height": 500
        },
        "id": "SkdT7iBDAl9N",
        "outputId": "4ff91e4c-e698-4b4e-deb6-ae5a4f4f7e46"
      },
      "outputs": [
        {
          "output_type": "stream",
          "name": "stderr",
          "text": [
            "[nltk_data] Downloading package punkt to /root/nltk_data...\n",
            "[nltk_data]   Unzipping tokenizers/punkt.zip.\n",
            "[nltk_data] Downloading package stopwords to /root/nltk_data...\n",
            "[nltk_data]   Unzipping corpora/stopwords.zip.\n",
            "[nltk_data] Downloading package wordnet to /root/nltk_data...\n",
            "[nltk_data] Downloading package omw-1.4 to /root/nltk_data...\n"
          ]
        },
        {
          "output_type": "error",
          "ename": "ModuleNotFoundError",
          "evalue": "No module named 'selenium'",
          "traceback": [
            "\u001b[0;31m---------------------------------------------------------------------------\u001b[0m",
            "\u001b[0;31mModuleNotFoundError\u001b[0m                       Traceback (most recent call last)",
            "\u001b[0;32m<ipython-input-1-06dc0f16feba>\u001b[0m in \u001b[0;36m<cell line: 38>\u001b[0;34m()\u001b[0m\n\u001b[1;32m     36\u001b[0m \u001b[0;31m# !pip install textblob\u001b[0m\u001b[0;34m\u001b[0m\u001b[0;34m\u001b[0m\u001b[0m\n\u001b[1;32m     37\u001b[0m \u001b[0;34m\u001b[0m\u001b[0m\n\u001b[0;32m---> 38\u001b[0;31m \u001b[0;32mfrom\u001b[0m \u001b[0mselenium\u001b[0m \u001b[0;32mimport\u001b[0m \u001b[0mwebdriver\u001b[0m\u001b[0;34m\u001b[0m\u001b[0;34m\u001b[0m\u001b[0m\n\u001b[0m\u001b[1;32m     39\u001b[0m \u001b[0;32mfrom\u001b[0m \u001b[0mselenium\u001b[0m\u001b[0;34m.\u001b[0m\u001b[0mwebdriver\u001b[0m\u001b[0;34m.\u001b[0m\u001b[0mcommon\u001b[0m\u001b[0;34m.\u001b[0m\u001b[0mby\u001b[0m \u001b[0;32mimport\u001b[0m \u001b[0mBy\u001b[0m\u001b[0;34m\u001b[0m\u001b[0;34m\u001b[0m\u001b[0m\n\u001b[1;32m     40\u001b[0m \u001b[0;32mfrom\u001b[0m \u001b[0mselenium\u001b[0m\u001b[0;34m.\u001b[0m\u001b[0mwebdriver\u001b[0m\u001b[0;34m.\u001b[0m\u001b[0mcommon\u001b[0m\u001b[0;34m.\u001b[0m\u001b[0mkeys\u001b[0m \u001b[0;32mimport\u001b[0m \u001b[0mKeys\u001b[0m\u001b[0;34m\u001b[0m\u001b[0;34m\u001b[0m\u001b[0m\n",
            "\u001b[0;31mModuleNotFoundError\u001b[0m: No module named 'selenium'",
            "",
            "\u001b[0;31m---------------------------------------------------------------------------\u001b[0;32m\nNOTE: If your import is failing due to a missing package, you can\nmanually install dependencies using either !pip or !apt.\n\nTo view examples of installing some common dependencies, click the\n\"Open Examples\" button below.\n\u001b[0;31m---------------------------------------------------------------------------\u001b[0m\n"
          ],
          "errorDetails": {
            "actions": [
              {
                "action": "open_url",
                "actionText": "Open Examples",
                "url": "/notebooks/snippets/importing_libraries.ipynb"
              }
            ]
          }
        }
      ],
      "source": [
        "from gensim.models import Word2Vec\n",
        "import gensim\n",
        "import pickle\n",
        "import pandas as pd\n",
        "from tqdm.notebook import tqdm\n",
        "import os\n",
        "import numpy as np\n",
        "from sklearn.decomposition import TruncatedSVD\n",
        "from xgboost import XGBClassifier\n",
        "import nltk\n",
        "import re\n",
        "from nltk.tokenize import word_tokenize\n",
        "from nltk.corpus import stopwords\n",
        "from nltk.stem import WordNetLemmatizer\n",
        "from sklearn.feature_extraction.text import TfidfVectorizer, CountVectorizer\n",
        "from sklearn.metrics import (\n",
        "    accuracy_score,\n",
        "    roc_auc_score,\n",
        "    confusion_matrix,\n",
        "    classification_report,\n",
        "    ConfusionMatrixDisplay\n",
        ")\n",
        "nltk.download('punkt')\n",
        "nltk.download('stopwords')\n",
        "nltk.download('wordnet')\n",
        "nltk.download('omw-1.4')\n",
        "\n",
        "\n",
        "# !pip install selenium\n",
        "# !pip install scikit-plot\n",
        "# !pip install langdetect\n",
        "# !pip install requests\n",
        "# !pip install beautifulsoup4\n",
        "# !pip install wordcloud\n",
        "# !pip install fake_useragent\n",
        "# !pip install textblob\n",
        "\n",
        "from selenium import webdriver\n",
        "from selenium.webdriver.common.by import By\n",
        "from selenium.webdriver.common.keys import Keys\n",
        "from selenium.webdriver.chrome.service import Service\n",
        "from selenium.webdriver.chrome.options import Options\n",
        "from selenium.webdriver.support.ui import WebDriverWait\n",
        "from selenium.webdriver.support import expected_conditions as EC\n",
        "from webdriver_manager.chrome import ChromeDriverManager\n",
        "\n",
        "import time\n",
        "from tqdm import tqdm\n",
        "from tqdm.notebook import tqdm\n",
        "import warnings\n",
        "warnings.filterwarnings(\"ignore\")\n",
        "import requests\n",
        "\n",
        "import matplotlib.pyplot as plt\n",
        "import seaborn as sns\n",
        "import re\n",
        "\n",
        "from sklearn.feature_extraction.text import CountVectorizer, TfidfVectorizer\n",
        "from sklearn.model_selection import GridSearchCV, train_test_split\n",
        "from sklearn.ensemble import RandomForestClassifier\n",
        "from nltk.sentiment.vader import SentimentIntensityAnalyzer\n",
        "from sklearn.linear_model import LogisticRegression\n",
        "from sklearn.metrics import classification_report, accuracy_score\n",
        "\n",
        "from sklearn.metrics import accuracy_score,precision_score,recall_score,confusion_matrix,roc_curve,classification_report\n",
        "from scikitplot.metrics import plot_confusion_matrix\n",
        "\n",
        "# from imblearn.over_sampling import SMOTE\n",
        "\n",
        "from selenium.webdriver.support.ui import WebDriverWait\n",
        "from selenium.webdriver.support import expected_conditions as EC"
      ]
    },
    {
      "cell_type": "markdown",
      "source": [
        "# Scraping Reviews from IMDB\n",
        "\n",
        "\n",
        "1. **The Silence of the Lambs** (1991) - IMDb ID: tt0102926\n",
        "2. **The Lord of the Rings: The Two Towers** (2002) - IMDb ID: tt0167261\n",
        "3. **Catch Me If You Can** (2002) - IMDb ID: tt0264464\n",
        "4. **Lost in Translation** (2003) - IMDb ID: tt0335266\n",
        "5. **Dead Poets Society** (1989) - IMDb ID: tt0097165\n",
        "6. **The Godfather: Part II** (1974) - IMDb ID: tt0071562\n",
        "7. **The Avengers** (2012) - IMDb ID: tt0848228\n",
        "8. **Epic Movie** (2007) - IMDb ID: tt0799949\n",
        "9. **Django Unchained** (2012) - IMDb ID: tt1853728\n",
        "10. **Interstellar** (2014) - IMDb ID: tt0816692\n",
        "11. **Birdemic: Shock and Terror** (2010) - IMDb ID: tt1316037\n",
        "12. **Inception** (2010) - IMDb ID: tt1375666\n",
        "13. **Amélie** (2001) - IMDb ID: tt0211915\n",
        "14. **The Pursuit of Happyness** (2006) - IMDb ID: tt0454921\n",
        "15. **The Truman Show** (1998) - IMDb ID: tt0120382\n",
        "16. **The Shawshank Redemption** (1994) - IMDb ID: tt0111161\n",
        "17. **Batman & Robin** (1997) - IMDb ID: tt0118688\n",
        "18. **The Happening** (2008) - IMDb ID: tt0949731\n",
        "19. **Forrest Gump** (1994) - IMDb ID: tt0109830\n",
        "20. **The Dark Knight** (2008) - IMDb ID: tt0468569\n",
        "21. **The Sixth Sense** (1999) - IMDb ID: tt0167404\n",
        "22. **The Departed** (2006) - IMDb ID: tt0407887\n",
        "23. **The Room** (2003) - IMDb ID: tt0368226\n",
        "24. **Jack and Jill** (2011) - IMDb ID: tt0810913\n",
        "25. **Gladiator** (2000) - IMDb ID: tt0172495\n",
        "26. **The Social Network** (2010) - IMDb ID: tt1285016\n",
        "27. **Titanic** (1997) - IMDb ID: tt0120338\n",
        "28. **Pulp Fiction** (1994) - IMDb ID: tt0110912\n",
        "29. **The Godfather** (1972) - IMDb ID: tt0068646\n",
        "30. **Catwoman** (2004) - IMDb ID: tt0327554\n",
        "31. **The Last Airbender** (2010) - IMDb ID: tt0938283\n",
        "32. **Movie 43** (2013) - IMDb ID: tt1333125\n",
        "33. **Schindler's List** (1993) - IMDb ID: tt0108052\n",
        "34. **Black Swan** (2010) - IMDb ID: tt0947798\n",
        "35. **Fight Club** (1999) - IMDb ID: tt0169547\n",
        "36. **Gigli** (2003) - IMDb ID: tt0299930\n",
        "37. **Shutter Island** (2010) - IMDb ID: tt1130884\n",
        "38. **The Grand Budapest Hotel** (2014) - IMDb ID: tt2278388\n",
        "39. **The Lord of the Rings: The Fellowship of the Ring** (2001) - IMDb ID: tt0120737\n",
        "40. **The King's Speech** (2010) - IMDb ID: tt1504320\n",
        "41. **The Emoji Movie** (2017) - IMDb ID: tt4877122\n",
        "42. **Cats** (2019) - IMDb ID: tt5697572\n",
        "43. **Disaster Movie** (2008) - IMDb ID: tt1213644\n",
        "44. **Goodfellas** (1990) - IMDb ID: tt0099685\n",
        "45. **Mystic River** (2003) - IMDb ID: tt0327056\n"
      ],
      "metadata": {
        "id": "s_s2pw70ht0d"
      }
    },
    {
      "cell_type": "code",
      "source": [
        "def scroll_to_bottom(driver):\n",
        "    last_height = driver.execute_script(\"return document.body.scrollHeight\")\n",
        "    while True:\n",
        "        driver.execute_script(\"window.scrollTo(0, document.body.scrollHeight);\")\n",
        "        time.sleep(1)\n",
        "        new_height = driver.execute_script(\"return document.body.scrollHeight\")\n",
        "        if new_height == last_height:\n",
        "            break\n",
        "        last_height = new_height\n",
        "\n",
        "def get_imdb_reviews(imdb_ids):\n",
        "    options = Options()\n",
        "    options.headless = False  # True, чтобы браузер работал в фоновом режиме\n",
        "\n",
        "    driver = webdriver.Chrome(options=chrome_options)\n",
        "    # driver = webdriver.Chrome(service=Service(ChromeDriverManager().install()), options=options)\n",
        "\n",
        "    all_reviews = []\n",
        "\n",
        "    total_imdb_ids = len(imdb_ids)\n",
        "    index = 0\n",
        "    for imdb_id in tqdm(imdb_ids):\n",
        "        driver.get(f'https://www.imdb.com/title/{imdb_id}/reviews')\n",
        "        print(f\"Scraping movie {index} out of {total_imdb_ids}\")\n",
        "        index += 1\n",
        "\n",
        "        reviews = []\n",
        "        unique_reviews = set()\n",
        "        load_more_button_class = \"ipl-load-more__button\"\n",
        "\n",
        "        # Прокручиваем страницу до конца, чтобы загрузить все отзывы\n",
        "        while True:\n",
        "            try:\n",
        "                scroll_to_bottom(driver)\n",
        "                load_more_button = WebDriverWait(driver, 10).until(\n",
        "                    EC.element_to_be_clickable((By.CLASS_NAME, load_more_button_class))\n",
        "                )\n",
        "                driver.execute_script(\"arguments[0].click();\", load_more_button)\n",
        "                time.sleep(1)\n",
        "            except Exception as e:\n",
        "                print(\"No more reviews or there is an issue: \", e)\n",
        "                break\n",
        "\n",
        "        # Ждем, чтобы все элементы загрузились\n",
        "        time.sleep(5)\n",
        "\n",
        "        # Собираем все отзывы\n",
        "        review_elements = driver.find_elements(By.CLASS_NAME, \"text.show-more__control\")\n",
        "        rating_elements = driver.find_elements(By.CLASS_NAME, \"rating-other-user-rating\")\n",
        "\n",
        "        for j, element in enumerate(review_elements):\n",
        "            review_text = element.text.strip() if element.text else \"No review text\"\n",
        "            review_rating = \"No rating\"\n",
        "            if j < len(rating_elements):\n",
        "                rating_span = rating_elements[j].find_elements(By.TAG_NAME, \"span\")\n",
        "                if rating_span:\n",
        "                    review_rating = rating_span[0].text\n",
        "\n",
        "            if review_text not in unique_reviews:\n",
        "                reviews.append({\"IMDb ID\": imdb_id, \"Review\": review_text, \"Rating\": review_rating})\n",
        "                unique_reviews.add(review_text)\n",
        "\n",
        "        with open(f'reviews/movie_{imdb_id}.pkl', 'wb') as f:\n",
        "            pickle.dump(reviews, f)\n",
        "        all_reviews.extend(reviews)\n",
        "\n",
        "    driver.quit()\n",
        "    return all_reviews\n",
        "\n",
        "def save_reviews_to_csv(reviews, filename):\n",
        "    df = pd.DataFrame(reviews)\n",
        "    df.to_csv(filename, index=False, encoding='utf-8')\n",
        "    print(f'Saved {len(reviews)} reviews to {filename}')\n",
        "\n",
        "if __name__ == \"__main__\":\n",
        "    imdb_ids = ['tt0111161', 'tt0068646', 'tt0468569', 'tt0110912', 'tt0108052',\n",
        "                'tt1285016', 'tt2278388', 'tt0264464', 'tt0335266', 'tt0097165',\n",
        "                'tt0299930', 'tt0327554', 'tt1213644', 'tt0938283', 'tt0118688',\n",
        "                'tt0071562', 'tt0102926', 'tt0099685', 'tt0120737', 'tt0120338',\n",
        "                'tt0120382', 'tt1504320', 'tt1130884', 'tt0327056', 'tt0211915',\n",
        "                'tt1316037', 'tt0810913', 'tt1213644', 'tt0299930', 'tt0368226',\n",
        "                'tt0816692', 'tt0167261', 'tt0848228', 'tt1853728', 'tt0172495',\n",
        "                'tt0167404', 'tt0169547', 'tt0407887', 'tt0947798', 'tt0454921',\n",
        "                'tt0799949', 'tt1333125', 'tt0949731', 'tt4877122', 'tt5697572',\n",
        "                'tt0109830', 'tt0111161', 'tt0468569', 'tt0068646', 'tt0110912',\n",
        "                'tt1375666', 'tt1285016', 'tt2278388', 'tt0264464', 'tt0335266',\n",
        "                'tt0299930', 'tt0327554', 'tt1213644', 'tt0938283', 'tt0118688',\n",
        "                'tt0071562', 'tt0102926', 'tt0099685', 'tt0120737', 'tt0120338',\n",
        "                'tt0120382', 'tt1504320', 'tt1130884', 'tt0327056', 'tt0211915']\n",
        "\n",
        "    all_reviews = get_imdb_reviews(imdb_ids)\n",
        "    save_reviews_to_csv(all_reviews, 'all_reviews.csv')"
      ],
      "metadata": {
        "id": "jAXW3RMxhMcM"
      },
      "execution_count": null,
      "outputs": []
    },
    {
      "cell_type": "markdown",
      "source": [
        "# Creating and preprocessing a DataFrame"
      ],
      "metadata": {
        "id": "TZF6CE94h7jX"
      }
    },
    {
      "cell_type": "markdown",
      "source": [
        "### Creating a DataFrame"
      ],
      "metadata": {
        "id": "_8VO3Ub1jlaj"
      }
    },
    {
      "cell_type": "code",
      "source": [
        "tqdm.pandas()"
      ],
      "metadata": {
        "id": "K0c619F6hMeY"
      },
      "execution_count": null,
      "outputs": []
    },
    {
      "cell_type": "code",
      "source": [
        "! unzip Reviews.zip"
      ],
      "metadata": {
        "id": "sQJVKMv0BalF"
      },
      "execution_count": null,
      "outputs": []
    },
    {
      "cell_type": "code",
      "source": [
        "all_reviews = []\n",
        "for filename in tqdm(os.listdir(\"Reviews/\")):\n",
        "    with open(f'Reviews/{filename}', 'rb') as f:\n",
        "        x = pickle.load(f)\n",
        "\n",
        "    for review in x:\n",
        "        imdb_id = review[\"IMDb ID\"]\n",
        "        review_text = review[\"Review\"]\n",
        "        rating = review[\"Rating\"]\n",
        "\n",
        "        all_reviews.append((imdb_id, review_text, rating))"
      ],
      "metadata": {
        "colab": {
          "base_uri": "https://localhost:8080/",
          "height": 49,
          "referenced_widgets": [
            "d604231e81684917af5e403c368721f7",
            "19aececb3a9d4045867a5629287900a8",
            "50702a28578c40f2aaaf1dc214d818ce",
            "3e7201a05da5472aa8bc5e99cb2827d8",
            "d61bba1b181845e6bdba0c77df9d4ee1",
            "cbe78313c4064a32a66251110f12867e",
            "c48ccf38557048de8ffaab2a13632ea7",
            "fe205c2d897a4ea6b4ef3a547ae18116",
            "d7b007258ba8414dab0f296cf6fda9ab",
            "ae69c2e97bda473fbe24fbd83aeaca5a",
            "3d91664748224d688f4415e69a26f258"
          ]
        },
        "id": "Bq4ny4IHBX9k",
        "outputId": "099ebcec-936b-41d0-bad2-82d9964ef60e"
      },
      "execution_count": null,
      "outputs": [
        {
          "output_type": "display_data",
          "data": {
            "text/plain": [
              "  0%|          | 0/45 [00:00<?, ?it/s]"
            ],
            "application/vnd.jupyter.widget-view+json": {
              "version_major": 2,
              "version_minor": 0,
              "model_id": "d604231e81684917af5e403c368721f7"
            }
          },
          "metadata": {}
        }
      ]
    },
    {
      "cell_type": "code",
      "source": [
        "df = pd.DataFrame(all_reviews, columns=[\"imdb_id\", \"review\", \"rating\"])\n",
        "df = df[df[\"rating\"] != \"No rating\"].reset_index(drop=True)\n",
        "df[\"rating\"] = df[\"rating\"].astype(int)\n",
        "\n",
        "df.head()"
      ],
      "metadata": {
        "id": "6X2MFOAJBhJl",
        "colab": {
          "base_uri": "https://localhost:8080/",
          "height": 206
        },
        "outputId": "eb7b6a23-dc59-43ab-edc6-cd9c4d269d4e"
      },
      "execution_count": null,
      "outputs": [
        {
          "output_type": "execute_result",
          "data": {
            "text/plain": [
              "     imdb_id                                             review  rating\n",
              "0  tt0120338  If you're a Millennial like me, you probably e...       9\n",
              "1  tt0120338  I've never watched Titanic until now. It caugh...       9\n",
              "2  tt0120338                                     No review text       9\n",
              "3  tt0120338  You can watch this movie in 1997, you can watc...      10\n",
              "4  tt0120338  I have watched Titanic how many times I don't ...      10"
            ],
            "text/html": [
              "\n",
              "  <div id=\"df-d059773b-9f2a-492c-9d92-72126061c2af\" class=\"colab-df-container\">\n",
              "    <div>\n",
              "<style scoped>\n",
              "    .dataframe tbody tr th:only-of-type {\n",
              "        vertical-align: middle;\n",
              "    }\n",
              "\n",
              "    .dataframe tbody tr th {\n",
              "        vertical-align: top;\n",
              "    }\n",
              "\n",
              "    .dataframe thead th {\n",
              "        text-align: right;\n",
              "    }\n",
              "</style>\n",
              "<table border=\"1\" class=\"dataframe\">\n",
              "  <thead>\n",
              "    <tr style=\"text-align: right;\">\n",
              "      <th></th>\n",
              "      <th>imdb_id</th>\n",
              "      <th>review</th>\n",
              "      <th>rating</th>\n",
              "    </tr>\n",
              "  </thead>\n",
              "  <tbody>\n",
              "    <tr>\n",
              "      <th>0</th>\n",
              "      <td>tt0120338</td>\n",
              "      <td>If you're a Millennial like me, you probably e...</td>\n",
              "      <td>9</td>\n",
              "    </tr>\n",
              "    <tr>\n",
              "      <th>1</th>\n",
              "      <td>tt0120338</td>\n",
              "      <td>I've never watched Titanic until now. It caugh...</td>\n",
              "      <td>9</td>\n",
              "    </tr>\n",
              "    <tr>\n",
              "      <th>2</th>\n",
              "      <td>tt0120338</td>\n",
              "      <td>No review text</td>\n",
              "      <td>9</td>\n",
              "    </tr>\n",
              "    <tr>\n",
              "      <th>3</th>\n",
              "      <td>tt0120338</td>\n",
              "      <td>You can watch this movie in 1997, you can watc...</td>\n",
              "      <td>10</td>\n",
              "    </tr>\n",
              "    <tr>\n",
              "      <th>4</th>\n",
              "      <td>tt0120338</td>\n",
              "      <td>I have watched Titanic how many times I don't ...</td>\n",
              "      <td>10</td>\n",
              "    </tr>\n",
              "  </tbody>\n",
              "</table>\n",
              "</div>\n",
              "    <div class=\"colab-df-buttons\">\n",
              "\n",
              "  <div class=\"colab-df-container\">\n",
              "    <button class=\"colab-df-convert\" onclick=\"convertToInteractive('df-d059773b-9f2a-492c-9d92-72126061c2af')\"\n",
              "            title=\"Convert this dataframe to an interactive table.\"\n",
              "            style=\"display:none;\">\n",
              "\n",
              "  <svg xmlns=\"http://www.w3.org/2000/svg\" height=\"24px\" viewBox=\"0 -960 960 960\">\n",
              "    <path d=\"M120-120v-720h720v720H120Zm60-500h600v-160H180v160Zm220 220h160v-160H400v160Zm0 220h160v-160H400v160ZM180-400h160v-160H180v160Zm440 0h160v-160H620v160ZM180-180h160v-160H180v160Zm440 0h160v-160H620v160Z\"/>\n",
              "  </svg>\n",
              "    </button>\n",
              "\n",
              "  <style>\n",
              "    .colab-df-container {\n",
              "      display:flex;\n",
              "      gap: 12px;\n",
              "    }\n",
              "\n",
              "    .colab-df-convert {\n",
              "      background-color: #E8F0FE;\n",
              "      border: none;\n",
              "      border-radius: 50%;\n",
              "      cursor: pointer;\n",
              "      display: none;\n",
              "      fill: #1967D2;\n",
              "      height: 32px;\n",
              "      padding: 0 0 0 0;\n",
              "      width: 32px;\n",
              "    }\n",
              "\n",
              "    .colab-df-convert:hover {\n",
              "      background-color: #E2EBFA;\n",
              "      box-shadow: 0px 1px 2px rgba(60, 64, 67, 0.3), 0px 1px 3px 1px rgba(60, 64, 67, 0.15);\n",
              "      fill: #174EA6;\n",
              "    }\n",
              "\n",
              "    .colab-df-buttons div {\n",
              "      margin-bottom: 4px;\n",
              "    }\n",
              "\n",
              "    [theme=dark] .colab-df-convert {\n",
              "      background-color: #3B4455;\n",
              "      fill: #D2E3FC;\n",
              "    }\n",
              "\n",
              "    [theme=dark] .colab-df-convert:hover {\n",
              "      background-color: #434B5C;\n",
              "      box-shadow: 0px 1px 3px 1px rgba(0, 0, 0, 0.15);\n",
              "      filter: drop-shadow(0px 1px 2px rgba(0, 0, 0, 0.3));\n",
              "      fill: #FFFFFF;\n",
              "    }\n",
              "  </style>\n",
              "\n",
              "    <script>\n",
              "      const buttonEl =\n",
              "        document.querySelector('#df-d059773b-9f2a-492c-9d92-72126061c2af button.colab-df-convert');\n",
              "      buttonEl.style.display =\n",
              "        google.colab.kernel.accessAllowed ? 'block' : 'none';\n",
              "\n",
              "      async function convertToInteractive(key) {\n",
              "        const element = document.querySelector('#df-d059773b-9f2a-492c-9d92-72126061c2af');\n",
              "        const dataTable =\n",
              "          await google.colab.kernel.invokeFunction('convertToInteractive',\n",
              "                                                    [key], {});\n",
              "        if (!dataTable) return;\n",
              "\n",
              "        const docLinkHtml = 'Like what you see? Visit the ' +\n",
              "          '<a target=\"_blank\" href=https://colab.research.google.com/notebooks/data_table.ipynb>data table notebook</a>'\n",
              "          + ' to learn more about interactive tables.';\n",
              "        element.innerHTML = '';\n",
              "        dataTable['output_type'] = 'display_data';\n",
              "        await google.colab.output.renderOutput(dataTable, element);\n",
              "        const docLink = document.createElement('div');\n",
              "        docLink.innerHTML = docLinkHtml;\n",
              "        element.appendChild(docLink);\n",
              "      }\n",
              "    </script>\n",
              "  </div>\n",
              "\n",
              "\n",
              "<div id=\"df-2a67103a-566c-4616-9707-98fed99c7ba9\">\n",
              "  <button class=\"colab-df-quickchart\" onclick=\"quickchart('df-2a67103a-566c-4616-9707-98fed99c7ba9')\"\n",
              "            title=\"Suggest charts\"\n",
              "            style=\"display:none;\">\n",
              "\n",
              "<svg xmlns=\"http://www.w3.org/2000/svg\" height=\"24px\"viewBox=\"0 0 24 24\"\n",
              "     width=\"24px\">\n",
              "    <g>\n",
              "        <path d=\"M19 3H5c-1.1 0-2 .9-2 2v14c0 1.1.9 2 2 2h14c1.1 0 2-.9 2-2V5c0-1.1-.9-2-2-2zM9 17H7v-7h2v7zm4 0h-2V7h2v10zm4 0h-2v-4h2v4z\"/>\n",
              "    </g>\n",
              "</svg>\n",
              "  </button>\n",
              "\n",
              "<style>\n",
              "  .colab-df-quickchart {\n",
              "      --bg-color: #E8F0FE;\n",
              "      --fill-color: #1967D2;\n",
              "      --hover-bg-color: #E2EBFA;\n",
              "      --hover-fill-color: #174EA6;\n",
              "      --disabled-fill-color: #AAA;\n",
              "      --disabled-bg-color: #DDD;\n",
              "  }\n",
              "\n",
              "  [theme=dark] .colab-df-quickchart {\n",
              "      --bg-color: #3B4455;\n",
              "      --fill-color: #D2E3FC;\n",
              "      --hover-bg-color: #434B5C;\n",
              "      --hover-fill-color: #FFFFFF;\n",
              "      --disabled-bg-color: #3B4455;\n",
              "      --disabled-fill-color: #666;\n",
              "  }\n",
              "\n",
              "  .colab-df-quickchart {\n",
              "    background-color: var(--bg-color);\n",
              "    border: none;\n",
              "    border-radius: 50%;\n",
              "    cursor: pointer;\n",
              "    display: none;\n",
              "    fill: var(--fill-color);\n",
              "    height: 32px;\n",
              "    padding: 0;\n",
              "    width: 32px;\n",
              "  }\n",
              "\n",
              "  .colab-df-quickchart:hover {\n",
              "    background-color: var(--hover-bg-color);\n",
              "    box-shadow: 0 1px 2px rgba(60, 64, 67, 0.3), 0 1px 3px 1px rgba(60, 64, 67, 0.15);\n",
              "    fill: var(--button-hover-fill-color);\n",
              "  }\n",
              "\n",
              "  .colab-df-quickchart-complete:disabled,\n",
              "  .colab-df-quickchart-complete:disabled:hover {\n",
              "    background-color: var(--disabled-bg-color);\n",
              "    fill: var(--disabled-fill-color);\n",
              "    box-shadow: none;\n",
              "  }\n",
              "\n",
              "  .colab-df-spinner {\n",
              "    border: 2px solid var(--fill-color);\n",
              "    border-color: transparent;\n",
              "    border-bottom-color: var(--fill-color);\n",
              "    animation:\n",
              "      spin 1s steps(1) infinite;\n",
              "  }\n",
              "\n",
              "  @keyframes spin {\n",
              "    0% {\n",
              "      border-color: transparent;\n",
              "      border-bottom-color: var(--fill-color);\n",
              "      border-left-color: var(--fill-color);\n",
              "    }\n",
              "    20% {\n",
              "      border-color: transparent;\n",
              "      border-left-color: var(--fill-color);\n",
              "      border-top-color: var(--fill-color);\n",
              "    }\n",
              "    30% {\n",
              "      border-color: transparent;\n",
              "      border-left-color: var(--fill-color);\n",
              "      border-top-color: var(--fill-color);\n",
              "      border-right-color: var(--fill-color);\n",
              "    }\n",
              "    40% {\n",
              "      border-color: transparent;\n",
              "      border-right-color: var(--fill-color);\n",
              "      border-top-color: var(--fill-color);\n",
              "    }\n",
              "    60% {\n",
              "      border-color: transparent;\n",
              "      border-right-color: var(--fill-color);\n",
              "    }\n",
              "    80% {\n",
              "      border-color: transparent;\n",
              "      border-right-color: var(--fill-color);\n",
              "      border-bottom-color: var(--fill-color);\n",
              "    }\n",
              "    90% {\n",
              "      border-color: transparent;\n",
              "      border-bottom-color: var(--fill-color);\n",
              "    }\n",
              "  }\n",
              "</style>\n",
              "\n",
              "  <script>\n",
              "    async function quickchart(key) {\n",
              "      const quickchartButtonEl =\n",
              "        document.querySelector('#' + key + ' button');\n",
              "      quickchartButtonEl.disabled = true;  // To prevent multiple clicks.\n",
              "      quickchartButtonEl.classList.add('colab-df-spinner');\n",
              "      try {\n",
              "        const charts = await google.colab.kernel.invokeFunction(\n",
              "            'suggestCharts', [key], {});\n",
              "      } catch (error) {\n",
              "        console.error('Error during call to suggestCharts:', error);\n",
              "      }\n",
              "      quickchartButtonEl.classList.remove('colab-df-spinner');\n",
              "      quickchartButtonEl.classList.add('colab-df-quickchart-complete');\n",
              "    }\n",
              "    (() => {\n",
              "      let quickchartButtonEl =\n",
              "        document.querySelector('#df-2a67103a-566c-4616-9707-98fed99c7ba9 button');\n",
              "      quickchartButtonEl.style.display =\n",
              "        google.colab.kernel.accessAllowed ? 'block' : 'none';\n",
              "    })();\n",
              "  </script>\n",
              "</div>\n",
              "\n",
              "    </div>\n",
              "  </div>\n"
            ],
            "application/vnd.google.colaboratory.intrinsic+json": {
              "type": "dataframe",
              "variable_name": "df",
              "summary": "{\n  \"name\": \"df\",\n  \"rows\": 76454,\n  \"fields\": [\n    {\n      \"column\": \"imdb_id\",\n      \"properties\": {\n        \"dtype\": \"category\",\n        \"num_unique_values\": 45,\n        \"samples\": [\n          \"tt0407887\",\n          \"tt0454921\",\n          \"tt2278388\"\n        ],\n        \"semantic_type\": \"\",\n        \"description\": \"\"\n      }\n    },\n    {\n      \"column\": \"review\",\n      \"properties\": {\n        \"dtype\": \"string\",\n        \"num_unique_values\": 76390,\n        \"samples\": [\n          \"Amazing performance by Natalie Portman and Mila Kunis.. It is a profoundly fantastic movie. The cliches in the movie are overshadowed by good craftsmanship and performance. Still holds up ten years later. An exciting joy to watch. It's not an amazingly fun movie, but it's a quite fresh movie.\",\n          \"I didn't expect The Sixth Sense to be nominated for an oscar, since horror is so often overlooked, and since Hitchcock is gone, there just aren't that many good horror movies around anymore. This film surprised me. I was glued to my seat through the whole thing. Not normally a big Bruce Willis fan, I thought he did a great job. Now I don't know that I would have chosen it for an Oscar, but when I discovered it was nominated, I got a small tingle of satisfaction that it made it. This was a clever movie, suspenseful, perplexing at times, but all coming together in the end in a flash of insight. I enjoyed it completely and recommend it to anyone who loves a good ghost story.\",\n          \"The Godfather is an extravaganza, nigh flawless, a cinematic magnum opus, ubiquitously acclaimed for its brilliance and for being in a league of its own. The Godfather doesn't depict poetic justice but rather portrays the triumph of perspicacious potency over abject vulnerability. The Godfather is known, not for its cogency but for its eloquence.\\n\\nThe movie being star-studded is decorated with a plethora of supernal performances and it won't be a hyperbole that almost every actor gave an Oscar worthy performance. Marlon Brando is exceptionally brilliant in his sterling portrayal of Vito Corleone and so is Al Pacino in his remarkable portrayal of Michael Corleone. The grandeur of Don Vito Corleone ironically lies in his austerity and inexorable equanimity.\\n\\nThe grandiosity of the movie is such, that even the biggest complement made about it may sound like a picayune remark. The Godfather may most aptly be described as an obituary of humanity, a requiem of mankind, owing to the pervasive violence and the brutality that it portrays in an utmost sanguinary fashion. In a nutshell, the movie has transcended all the limits of mortality only to achieve apotheosis.\\n\\nhttp://www.apotpourriofvestiges.com/\"\n        ],\n        \"semantic_type\": \"\",\n        \"description\": \"\"\n      }\n    },\n    {\n      \"column\": \"rating\",\n      \"properties\": {\n        \"dtype\": \"number\",\n        \"std\": 2,\n        \"min\": 1,\n        \"max\": 10,\n        \"num_unique_values\": 10,\n        \"samples\": [\n          4,\n          10,\n          1\n        ],\n        \"semantic_type\": \"\",\n        \"description\": \"\"\n      }\n    }\n  ]\n}"
            }
          },
          "metadata": {},
          "execution_count": 19
        }
      ]
    },
    {
      "cell_type": "code",
      "source": [
        "df = df[~df[\"rating\"].isin([5, 6])]"
      ],
      "metadata": {
        "id": "E6s_EO5nslrc"
      },
      "execution_count": null,
      "outputs": []
    },
    {
      "cell_type": "code",
      "source": [
        "df[\"rating\"] = (df[\"rating\"] >= 7) * 1"
      ],
      "metadata": {
        "id": "kFHhA6aqBmAg"
      },
      "execution_count": null,
      "outputs": []
    },
    {
      "cell_type": "code",
      "source": [
        "df[\"rating\"].value_counts(normalize=True)"
      ],
      "metadata": {
        "colab": {
          "base_uri": "https://localhost:8080/"
        },
        "id": "QODdZf3PBmDG",
        "outputId": "fa4921e3-fd8f-485c-dd84-5922c6fbb2b0"
      },
      "execution_count": null,
      "outputs": [
        {
          "output_type": "execute_result",
          "data": {
            "text/plain": [
              "rating\n",
              "1    0.835057\n",
              "0    0.164943\n",
              "Name: proportion, dtype: float64"
            ]
          },
          "metadata": {},
          "execution_count": 24
        }
      ]
    },
    {
      "cell_type": "markdown",
      "source": [
        "### Removing all non-letter characters, lowercase conversion, tokenization and lemmatization"
      ],
      "metadata": {
        "id": "eVAj3FfEjp8h"
      }
    },
    {
      "cell_type": "code",
      "source": [
        "def clean_text(text):\n",
        "    text = re.sub(r'<.*?>', '', text)\n",
        "    text = re.sub(r'[^a-zA-Z]', ' ', text).lower()\n",
        "\n",
        "    stop_words = set(stopwords.words('english'))\n",
        "    word_tokens = word_tokenize(text)\n",
        "    filtered_text = [word for word in word_tokens if word not in stop_words]\n",
        "\n",
        "    return ' '.join(filtered_text)\n",
        "\n",
        "def lemmatize_text(text):\n",
        "    lemmatizer = WordNetLemmatizer()\n",
        "    word_tokens = word_tokenize(text)\n",
        "    lemmatized_text = [lemmatizer.lemmatize(word) for word in word_tokens]\n",
        "    return ' '.join(lemmatized_text)"
      ],
      "metadata": {
        "id": "G8O4dUAYBmFc"
      },
      "execution_count": null,
      "outputs": []
    },
    {
      "cell_type": "code",
      "source": [
        "df[\"cleaned_review\"] = df[\"review\"].progress_apply(clean_text)\n",
        "df[\"lemmatized_review\"] = df[\"cleaned_review\"].progress_apply(lemmatize_text)"
      ],
      "metadata": {
        "colab": {
          "base_uri": "https://localhost:8080/",
          "height": 81,
          "referenced_widgets": [
            "40cfd52111294b2a9b0118a69c6ae7aa",
            "1e9baf12e60d449bb202fc37d619687b",
            "2c9499255b734072ac9d4493140a8089",
            "ee899cc4590f40c08986bc77d53ef515",
            "38c57ad718be47b88895830185212bcd",
            "8149ea3fc0bc491eb830b4705c5cb742",
            "f79955eb0a544844a2877ba1c58d7b59",
            "9ac6eabd2b6648e8812db83aa4e65a4d",
            "5b2e4d9c504a4f6491d08d01f319099b",
            "fbb4ff22d2494a91aef55b0e64ef6689",
            "bac644f9eecf47eab5720b579b9511c6",
            "b1b5443d290a42f2b6a5fdfef895cd8d",
            "646b71b79dda479fb8d646314c118ae1",
            "3a2b4499d8a641b7a63871cb81cec5b1",
            "fad5d221dfb346b79c81a5c24d887c0f",
            "d31992ba020a4cfaa83c9339c844f725",
            "caaba8dd54f943e7b2001f542fcc342a",
            "e0c941b755434542a8f2a6cc848e2178",
            "69dafb7ef6bf4769b0d9ca243e04f053",
            "990f270fa9dc4a2c97bacca74d459ff4",
            "f4a1f81ba672472aa35613e657846d3c",
            "f8e0080dff554cc6a3a572ea0a664917"
          ]
        },
        "id": "0HFljgfMBmIC",
        "outputId": "162f9418-5e31-4799-8fc7-d67698d9dd9f"
      },
      "execution_count": null,
      "outputs": [
        {
          "output_type": "display_data",
          "data": {
            "text/plain": [
              "  0%|          | 0/71643 [00:00<?, ?it/s]"
            ],
            "application/vnd.jupyter.widget-view+json": {
              "version_major": 2,
              "version_minor": 0,
              "model_id": "40cfd52111294b2a9b0118a69c6ae7aa"
            }
          },
          "metadata": {}
        },
        {
          "output_type": "display_data",
          "data": {
            "text/plain": [
              "  0%|          | 0/71643 [00:00<?, ?it/s]"
            ],
            "application/vnd.jupyter.widget-view+json": {
              "version_major": 2,
              "version_minor": 0,
              "model_id": "b1b5443d290a42f2b6a5fdfef895cd8d"
            }
          },
          "metadata": {}
        }
      ]
    },
    {
      "cell_type": "code",
      "source": [
        "df = df.sample(frac=1).reset_index(drop=True)"
      ],
      "metadata": {
        "id": "cwAmlbVdCAKd"
      },
      "execution_count": null,
      "outputs": []
    },
    {
      "cell_type": "markdown",
      "source": [
        "### Vectorization"
      ],
      "metadata": {
        "id": "lyqLY_rBkOsA"
      }
    },
    {
      "cell_type": "code",
      "source": [
        "X_train, X_test = df[:50_000], df[50_000:].reset_index(drop=True)"
      ],
      "metadata": {
        "id": "3fzxMqRkCAPp"
      },
      "execution_count": null,
      "outputs": []
    },
    {
      "cell_type": "code",
      "source": [
        "model = gensim.models.Word2Vec(\n",
        "    df[\"lemmatized_review\"].apply(lambda x: x.split()).values,\n",
        "    min_count=1,\n",
        "    vector_size=50\n",
        ")"
      ],
      "metadata": {
        "id": "20Bg2eFqCARt"
      },
      "execution_count": null,
      "outputs": []
    },
    {
      "cell_type": "code",
      "source": [
        "model.wv.most_similar(\"masterpiece\")"
      ],
      "metadata": {
        "colab": {
          "base_uri": "https://localhost:8080/"
        },
        "id": "DMrpYeAECAUX",
        "outputId": "0ede1b75-ed82-4b16-f639-444ace22e3e2"
      },
      "execution_count": null,
      "outputs": [
        {
          "output_type": "execute_result",
          "data": {
            "text/plain": [
              "[('gem', 0.7780922055244446),\n",
              " ('classic', 0.7321485280990601),\n",
              " ('greatness', 0.6887320876121521),\n",
              " ('genius', 0.6246114373207092),\n",
              " ('pinnacle', 0.6236932277679443),\n",
              " ('film', 0.6026254296302795),\n",
              " ('milestone', 0.5964140295982361),\n",
              " ('timeless', 0.5954636335372925),\n",
              " ('brilliance', 0.5826553702354431),\n",
              " ('achievement', 0.5781294703483582)]"
            ]
          },
          "metadata": {},
          "execution_count": 34
        }
      ]
    },
    {
      "cell_type": "code",
      "source": [
        "model.wv.most_similar(\"actor\")"
      ],
      "metadata": {
        "colab": {
          "base_uri": "https://localhost:8080/"
        },
        "id": "k2YjNUzcCAZS",
        "outputId": "58247f94-3bc6-4429-e2cc-37c34278c45b"
      },
      "execution_count": null,
      "outputs": [
        {
          "output_type": "execute_result",
          "data": {
            "text/plain": [
              "[('actress', 0.7323344945907593),\n",
              " ('cast', 0.7098230719566345),\n",
              " ('acting', 0.6415728330612183),\n",
              " ('role', 0.6297093629837036),\n",
              " ('withmore', 0.6048295497894287),\n",
              " ('casting', 0.591067910194397),\n",
              " ('talent', 0.5679706931114197),\n",
              " ('performer', 0.554907500743866),\n",
              " ('intellegent', 0.5523759126663208),\n",
              " ('talented', 0.5502094030380249)]"
            ]
          },
          "metadata": {},
          "execution_count": 168
        }
      ]
    },
    {
      "cell_type": "code",
      "source": [
        "def text2vec(text):\n",
        "\n",
        "    words = text.split()\n",
        "    vecs = []\n",
        "    for word in words:\n",
        "        try:\n",
        "            vecs.append(model.wv[word])\n",
        "        except:\n",
        "            continue\n",
        "    if len(vecs) == 0:\n",
        "        return list(np.zeros(50))\n",
        "\n",
        "    text_vec = np.stack(vecs).mean(axis=0)\n",
        "    return list(text_vec)"
      ],
      "metadata": {
        "id": "tahiVwsaDrBL"
      },
      "execution_count": null,
      "outputs": []
    },
    {
      "cell_type": "code",
      "source": [
        "text_vecs = X_train[\"lemmatized_review\"].progress_apply(text2vec)"
      ],
      "metadata": {
        "colab": {
          "base_uri": "https://localhost:8080/",
          "height": 49,
          "referenced_widgets": [
            "19e0437769bc479481317a8795464f68",
            "ba60656a378a4863a65e867ba4f3ccc4",
            "52b25ad442ee43f984327cf7eafffdde",
            "7c9f21f69d08451995a24f97cb2b0210",
            "d93147f6d4694fcda000b3d8c16fa0a5",
            "2b3398b43e554188b0f26610cc0d1f37",
            "06176bef1e474e5d8d663cb7f379c8e8",
            "9e7af5c5768841be880de66b13a48650",
            "545d433210d549d2931ac6798b95015f",
            "2a92b61d444f47a1b9eff73e08bec447",
            "7916d14bb874459681e144b398ac8f41"
          ]
        },
        "id": "qD9JLMJkDrDz",
        "outputId": "bfe390f7-3751-43b5-d1a6-3c2ca80c9a35"
      },
      "execution_count": null,
      "outputs": [
        {
          "output_type": "display_data",
          "data": {
            "text/plain": [
              "  0%|          | 0/50000 [00:00<?, ?it/s]"
            ],
            "application/vnd.jupyter.widget-view+json": {
              "version_major": 2,
              "version_minor": 0,
              "model_id": "19e0437769bc479481317a8795464f68"
            }
          },
          "metadata": {}
        }
      ]
    },
    {
      "cell_type": "code",
      "source": [
        "X_train = pd.concat([X_train, pd.DataFrame([el for el in text_vecs.values])], axis=1)"
      ],
      "metadata": {
        "id": "-gDA_xoODrGZ"
      },
      "execution_count": null,
      "outputs": []
    },
    {
      "cell_type": "code",
      "source": [
        "text_vecs = X_test[\"lemmatized_review\"].progress_apply(text2vec)"
      ],
      "metadata": {
        "colab": {
          "base_uri": "https://localhost:8080/",
          "height": 49,
          "referenced_widgets": [
            "9e76f0a2edf34f99ae67cc0b88c63411",
            "ce87bd8868854798b0bf6b35f1e096ab",
            "c0a7328b60aa43b7a3b6d320b90a7745",
            "774d5baca00e4e11bf89c5e3fdddfc79",
            "faa87c8907664e5bad15dd2fc7c3f890",
            "db8a35fda37a409581010bbc74900c54",
            "b6e503ff73c0459184766486ea6589bd",
            "bac0874c822343d7bad6803414ca2be2",
            "2ecf21e3b61d44a88acaba6a03285f40",
            "7f3bf42eb8134a8faf917ac25c02c03a",
            "8d9c6aa94d8349c59f601f586b002ada"
          ]
        },
        "id": "_UCiBLjDDrN7",
        "outputId": "1044037e-d886-4896-f1f9-dba6508c5ec3"
      },
      "execution_count": null,
      "outputs": [
        {
          "output_type": "display_data",
          "data": {
            "text/plain": [
              "  0%|          | 0/21643 [00:00<?, ?it/s]"
            ],
            "application/vnd.jupyter.widget-view+json": {
              "version_major": 2,
              "version_minor": 0,
              "model_id": "9e76f0a2edf34f99ae67cc0b88c63411"
            }
          },
          "metadata": {}
        }
      ]
    },
    {
      "cell_type": "code",
      "source": [
        "X_test = pd.concat([X_test, pd.DataFrame([el for el in text_vecs.values])], axis=1)"
      ],
      "metadata": {
        "id": "9hEre6yDDrQS"
      },
      "execution_count": null,
      "outputs": []
    },
    {
      "cell_type": "markdown",
      "source": [
        "# Applying a Gradient Boosting Model"
      ],
      "metadata": {
        "id": "IljtIpiuy2HQ"
      }
    },
    {
      "cell_type": "markdown",
      "source": [
        "## Choosing parameters"
      ],
      "metadata": {
        "id": "1xrdpyDjyvZk"
      }
    },
    {
      "cell_type": "code",
      "source": [
        "max_score = 0.5\n",
        "for n_estimators in [100, 200, 500, 1000]:\n",
        "    for max_depth in [3, 4, 5, 6]:\n",
        "        print(n_estimators, max_depth)\n",
        "        for learning_rate in [0.05, 0.06, 0.07, 0.08, 0.09, 0.1, 0.11, 0.12, 0.13, 0.14, 0.15]:\n",
        "            for colsample_bytree in [0.2, 0.5, 0.75, 1.0]:\n",
        "\n",
        "                model = LGBMClassifier(\n",
        "                    n_estimators=n_estimators,\n",
        "                    max_depth=max_depth,\n",
        "                    learning_rate=learning_rate,\n",
        "                    colsample_bytree=colsample_bytree,\n",
        "                    n_jobs=-1,\n",
        "                    verbose=-1\n",
        "                )\n",
        "                model.fit(X_train.iloc[:, -50:], X_train[\"rating\"])\n",
        "                preds = model.predict_proba(X_test.iloc[:, -50:])\n",
        "\n",
        "                score = roc_auc_score(X_test[\"rating\"], preds[:, 1])\n",
        "                if score > max_score:\n",
        "                    max_n_estimators = n_estimators\n",
        "                    max_max_depth = max_depth\n",
        "                    max_learning_rate = learning_rate\n",
        "                    max_colsample_bytree = colsample_bytree\n",
        "\n",
        "                    max_score = score\n",
        "\n",
        "                    print(\n",
        "                        n_estimators,\n",
        "                        max_depth,\n",
        "                        learning_rate,\n",
        "                        colsample_bytree,\n",
        "                        roc_auc_score(X_test[\"rating\"], preds[:, 1])\n",
        "                    )"
      ],
      "metadata": {
        "colab": {
          "base_uri": "https://localhost:8080/",
          "height": 954
        },
        "id": "vHrA4xglEZZI",
        "outputId": "d76d3890-ff53-4c6e-bbac-05afeece909b"
      },
      "execution_count": null,
      "outputs": [
        {
          "output_type": "stream",
          "name": "stdout",
          "text": [
            "100 3\n",
            "100 3 0.05 0.2 0.7453945402004709\n",
            "100 3 0.05 0.5 0.7470064251462587\n",
            "100 3 0.05 0.75 0.7475608144817758\n",
            "100 3 0.06 0.5 0.748952622420296\n",
            "100 3 0.06 1.0 0.7492499744096505\n",
            "100 3 0.07 0.75 0.7502319430555665\n",
            "100 3 0.07 1.0 0.7506915457358604\n",
            "100 3 0.08 0.75 0.7515561216053418\n",
            "100 3 0.09 0.5 0.7518258832607617\n",
            "100 3 0.1 0.2 0.7520975661608964\n",
            "100 3 0.1 0.5 0.7525179329296618\n",
            "100 3 0.1 0.75 0.7544630987157582\n",
            "100 3 0.15 1.0 0.755226919473075\n",
            "100 4\n",
            "100 4 0.07 1.0 0.7552567066401052\n",
            "100 4 0.08 0.75 0.7563672175809639\n",
            "100 4 0.09 0.75 0.7566990968575051\n",
            "100 4 0.1 0.75 0.7569500161416051\n",
            "100 4 0.11 0.75 0.7578354579885198\n",
            "100 4 0.13 0.5 0.7580601176368691\n",
            "100 5\n",
            "100 5 0.09 0.5 0.7592827221832898\n",
            "100 6\n",
            "100 6 0.08 0.75 0.7595007204667681\n",
            "200 3\n",
            "200 4\n",
            "200 5\n",
            "200 6\n",
            "200 6 0.05 0.2 0.7600987787497737\n",
            "200 6 0.06 0.2 0.760224856497193\n",
            "500 3\n",
            "500 4\n"
          ]
        },
        {
          "output_type": "error",
          "ename": "KeyboardInterrupt",
          "evalue": "",
          "traceback": [
            "\u001b[0;31m---------------------------------------------------------------------------\u001b[0m",
            "\u001b[0;31mKeyboardInterrupt\u001b[0m                         Traceback (most recent call last)",
            "\u001b[0;32m<ipython-input-185-4d897b5ff10a>\u001b[0m in \u001b[0;36m<cell line: 2>\u001b[0;34m()\u001b[0m\n\u001b[1;32m     14\u001b[0m                     \u001b[0mverbose\u001b[0m\u001b[0;34m=\u001b[0m\u001b[0;34m-\u001b[0m\u001b[0;36m1\u001b[0m\u001b[0;34m\u001b[0m\u001b[0;34m\u001b[0m\u001b[0m\n\u001b[1;32m     15\u001b[0m                 )\n\u001b[0;32m---> 16\u001b[0;31m                 \u001b[0mmodel\u001b[0m\u001b[0;34m.\u001b[0m\u001b[0mfit\u001b[0m\u001b[0;34m(\u001b[0m\u001b[0mX_train\u001b[0m\u001b[0;34m.\u001b[0m\u001b[0miloc\u001b[0m\u001b[0;34m[\u001b[0m\u001b[0;34m:\u001b[0m\u001b[0;34m,\u001b[0m \u001b[0;34m-\u001b[0m\u001b[0;36m50\u001b[0m\u001b[0;34m:\u001b[0m\u001b[0;34m]\u001b[0m\u001b[0;34m,\u001b[0m \u001b[0mX_train\u001b[0m\u001b[0;34m[\u001b[0m\u001b[0;34m\"rating\"\u001b[0m\u001b[0;34m]\u001b[0m\u001b[0;34m)\u001b[0m\u001b[0;34m\u001b[0m\u001b[0;34m\u001b[0m\u001b[0m\n\u001b[0m\u001b[1;32m     17\u001b[0m                 \u001b[0mpreds\u001b[0m \u001b[0;34m=\u001b[0m \u001b[0mmodel\u001b[0m\u001b[0;34m.\u001b[0m\u001b[0mpredict_proba\u001b[0m\u001b[0;34m(\u001b[0m\u001b[0mX_test\u001b[0m\u001b[0;34m.\u001b[0m\u001b[0miloc\u001b[0m\u001b[0;34m[\u001b[0m\u001b[0;34m:\u001b[0m\u001b[0;34m,\u001b[0m \u001b[0;34m-\u001b[0m\u001b[0;36m50\u001b[0m\u001b[0;34m:\u001b[0m\u001b[0;34m]\u001b[0m\u001b[0;34m)\u001b[0m\u001b[0;34m\u001b[0m\u001b[0;34m\u001b[0m\u001b[0m\n\u001b[1;32m     18\u001b[0m \u001b[0;34m\u001b[0m\u001b[0m\n",
            "\u001b[0;32m/usr/local/lib/python3.10/dist-packages/lightgbm/sklearn.py\u001b[0m in \u001b[0;36mfit\u001b[0;34m(self, X, y, sample_weight, init_score, eval_set, eval_names, eval_sample_weight, eval_class_weight, eval_init_score, eval_metric, feature_name, categorical_feature, callbacks, init_model)\u001b[0m\n\u001b[1;32m   1140\u001b[0m                     \u001b[0mvalid_sets\u001b[0m\u001b[0;34m.\u001b[0m\u001b[0mappend\u001b[0m\u001b[0;34m(\u001b[0m\u001b[0;34m(\u001b[0m\u001b[0mvalid_x\u001b[0m\u001b[0;34m,\u001b[0m \u001b[0mself\u001b[0m\u001b[0;34m.\u001b[0m\u001b[0m_le\u001b[0m\u001b[0;34m.\u001b[0m\u001b[0mtransform\u001b[0m\u001b[0;34m(\u001b[0m\u001b[0mvalid_y\u001b[0m\u001b[0;34m)\u001b[0m\u001b[0;34m)\u001b[0m\u001b[0;34m)\u001b[0m\u001b[0;34m\u001b[0m\u001b[0;34m\u001b[0m\u001b[0m\n\u001b[1;32m   1141\u001b[0m \u001b[0;34m\u001b[0m\u001b[0m\n\u001b[0;32m-> 1142\u001b[0;31m         super().fit(\n\u001b[0m\u001b[1;32m   1143\u001b[0m             \u001b[0mX\u001b[0m\u001b[0;34m,\u001b[0m\u001b[0;34m\u001b[0m\u001b[0;34m\u001b[0m\u001b[0m\n\u001b[1;32m   1144\u001b[0m             \u001b[0m_y\u001b[0m\u001b[0;34m,\u001b[0m\u001b[0;34m\u001b[0m\u001b[0;34m\u001b[0m\u001b[0m\n",
            "\u001b[0;32m/usr/local/lib/python3.10/dist-packages/lightgbm/sklearn.py\u001b[0m in \u001b[0;36mfit\u001b[0;34m(self, X, y, sample_weight, init_score, group, eval_set, eval_names, eval_sample_weight, eval_class_weight, eval_init_score, eval_group, eval_metric, feature_name, categorical_feature, callbacks, init_model)\u001b[0m\n\u001b[1;32m    840\u001b[0m         \u001b[0mcallbacks\u001b[0m\u001b[0;34m.\u001b[0m\u001b[0mappend\u001b[0m\u001b[0;34m(\u001b[0m\u001b[0mrecord_evaluation\u001b[0m\u001b[0;34m(\u001b[0m\u001b[0mevals_result\u001b[0m\u001b[0;34m)\u001b[0m\u001b[0;34m)\u001b[0m\u001b[0;34m\u001b[0m\u001b[0;34m\u001b[0m\u001b[0m\n\u001b[1;32m    841\u001b[0m \u001b[0;34m\u001b[0m\u001b[0m\n\u001b[0;32m--> 842\u001b[0;31m         self._Booster = train(\n\u001b[0m\u001b[1;32m    843\u001b[0m             \u001b[0mparams\u001b[0m\u001b[0;34m=\u001b[0m\u001b[0mparams\u001b[0m\u001b[0;34m,\u001b[0m\u001b[0;34m\u001b[0m\u001b[0;34m\u001b[0m\u001b[0m\n\u001b[1;32m    844\u001b[0m             \u001b[0mtrain_set\u001b[0m\u001b[0;34m=\u001b[0m\u001b[0mtrain_set\u001b[0m\u001b[0;34m,\u001b[0m\u001b[0;34m\u001b[0m\u001b[0;34m\u001b[0m\u001b[0m\n",
            "\u001b[0;32m/usr/local/lib/python3.10/dist-packages/lightgbm/engine.py\u001b[0m in \u001b[0;36mtrain\u001b[0;34m(params, train_set, num_boost_round, valid_sets, valid_names, feval, init_model, feature_name, categorical_feature, keep_training_booster, callbacks)\u001b[0m\n\u001b[1;32m    274\u001b[0m                                     evaluation_result_list=None))\n\u001b[1;32m    275\u001b[0m \u001b[0;34m\u001b[0m\u001b[0m\n\u001b[0;32m--> 276\u001b[0;31m         \u001b[0mbooster\u001b[0m\u001b[0;34m.\u001b[0m\u001b[0mupdate\u001b[0m\u001b[0;34m(\u001b[0m\u001b[0mfobj\u001b[0m\u001b[0;34m=\u001b[0m\u001b[0mfobj\u001b[0m\u001b[0;34m)\u001b[0m\u001b[0;34m\u001b[0m\u001b[0;34m\u001b[0m\u001b[0m\n\u001b[0m\u001b[1;32m    277\u001b[0m \u001b[0;34m\u001b[0m\u001b[0m\n\u001b[1;32m    278\u001b[0m         \u001b[0mevaluation_result_list\u001b[0m\u001b[0;34m:\u001b[0m \u001b[0mList\u001b[0m\u001b[0;34m[\u001b[0m\u001b[0m_LGBM_BoosterEvalMethodResultType\u001b[0m\u001b[0;34m]\u001b[0m \u001b[0;34m=\u001b[0m \u001b[0;34m[\u001b[0m\u001b[0;34m]\u001b[0m\u001b[0;34m\u001b[0m\u001b[0;34m\u001b[0m\u001b[0m\n",
            "\u001b[0;32m/usr/local/lib/python3.10/dist-packages/lightgbm/basic.py\u001b[0m in \u001b[0;36mupdate\u001b[0;34m(self, train_set, fobj)\u001b[0m\n\u001b[1;32m   3656\u001b[0m             \u001b[0;32mif\u001b[0m \u001b[0mself\u001b[0m\u001b[0;34m.\u001b[0m\u001b[0m__set_objective_to_none\u001b[0m\u001b[0;34m:\u001b[0m\u001b[0;34m\u001b[0m\u001b[0;34m\u001b[0m\u001b[0m\n\u001b[1;32m   3657\u001b[0m                 \u001b[0;32mraise\u001b[0m \u001b[0mLightGBMError\u001b[0m\u001b[0;34m(\u001b[0m\u001b[0;34m'Cannot update due to null objective function.'\u001b[0m\u001b[0;34m)\u001b[0m\u001b[0;34m\u001b[0m\u001b[0;34m\u001b[0m\u001b[0m\n\u001b[0;32m-> 3658\u001b[0;31m             _safe_call(_LIB.LGBM_BoosterUpdateOneIter(\n\u001b[0m\u001b[1;32m   3659\u001b[0m                 \u001b[0mself\u001b[0m\u001b[0;34m.\u001b[0m\u001b[0m_handle\u001b[0m\u001b[0;34m,\u001b[0m\u001b[0;34m\u001b[0m\u001b[0;34m\u001b[0m\u001b[0m\n\u001b[1;32m   3660\u001b[0m                 ctypes.byref(is_finished)))\n",
            "\u001b[0;31mKeyboardInterrupt\u001b[0m: "
          ]
        }
      ]
    },
    {
      "cell_type": "code",
      "source": [
        "params = {\n",
        "    \"n_estimators\": 200,\n",
        "    \"max_depth\": 6,\n",
        "    \"learning_rate\": 0.06,\n",
        "    \"colsample_bytree\": 0.2,\n",
        "    \"n_jobs\": -1,\n",
        "    \"verbose\": -1\n",
        "}"
      ],
      "metadata": {
        "id": "as3ZKx3biKV2"
      },
      "execution_count": null,
      "outputs": []
    },
    {
      "cell_type": "code",
      "source": [
        "model = LGBMClassifier(**params)\n",
        "model.fit(X_train.iloc[:, -50:], X_train[\"rating\"])\n",
        "preds = model.predict_proba(X_test.iloc[:, -50:])\n",
        "score = roc_auc_score(X_test[\"rating\"], preds[:, 1])\n",
        "print(score)"
      ],
      "metadata": {
        "colab": {
          "base_uri": "https://localhost:8080/"
        },
        "id": "OybINzowiKYe",
        "outputId": "2467d0c5-c732-4219-e516-3bc7221667b5"
      },
      "execution_count": null,
      "outputs": [
        {
          "output_type": "stream",
          "name": "stdout",
          "text": [
            "0.760224856497193\n"
          ]
        }
      ]
    },
    {
      "cell_type": "code",
      "source": [
        "X_test[\"rating\"].value_counts(normalize=True)"
      ],
      "metadata": {
        "colab": {
          "base_uri": "https://localhost:8080/"
        },
        "id": "nCJjgz4ciYem",
        "outputId": "cf69b2aa-6407-4758-9891-1c935a9ec680"
      },
      "execution_count": null,
      "outputs": [
        {
          "output_type": "execute_result",
          "data": {
            "text/plain": [
              "rating\n",
              "1    0.838285\n",
              "0    0.161715\n",
              "Name: proportion, dtype: float64"
            ]
          },
          "metadata": {},
          "execution_count": 190
        }
      ]
    },
    {
      "cell_type": "markdown",
      "source": [
        "# Подбираем отсечку максимизирующую accuracy"
      ],
      "metadata": {
        "id": "8euo4Uy_zIR7"
      }
    },
    {
      "cell_type": "code",
      "source": [
        "[(round(t, 2), accuracy_score(X_test[\"rating\"], (preds[:, 1] > t) * 1)) for t in np.linspace(0, 1, 101)]"
      ],
      "metadata": {
        "colab": {
          "base_uri": "https://localhost:8080/"
        },
        "id": "Dfd5YtQDih-a",
        "outputId": "1720d41d-da81-4eeb-ecfe-6ee07b504a29"
      },
      "execution_count": null,
      "outputs": [
        {
          "output_type": "execute_result",
          "data": {
            "text/plain": [
              "[(0.0, 0.8382848958092686),\n",
              " (0.01, 0.8382848958092686),\n",
              " (0.02, 0.8382848958092686),\n",
              " (0.03, 0.8382848958092686),\n",
              " (0.04, 0.8382848958092686),\n",
              " (0.05, 0.8382848958092686),\n",
              " (0.06, 0.8382848958092686),\n",
              " (0.07, 0.8382848958092686),\n",
              " (0.08, 0.8384235087557178),\n",
              " (0.09, 0.8384235087557178),\n",
              " (0.1, 0.8387931432795823),\n",
              " (0.11, 0.8389779605415145),\n",
              " (0.12, 0.8392089821189299),\n",
              " (0.13, 0.8394862080118283),\n",
              " (0.14, 0.8398558425356928),\n",
              " (0.15, 0.8401792727440743),\n",
              " (0.16, 0.8408723374763203),\n",
              " (0.17, 0.8414729935776002),\n",
              " (0.18, 0.8418426281014647),\n",
              " (0.19, 0.8428591230420921),\n",
              " (0.2, 0.8437370050362704),\n",
              " (0.21, 0.8447997042923809),\n",
              " (0.22, 0.845585177655593),\n",
              " (0.23, 0.8462320380723559),\n",
              " (0.24, 0.8471099200665342),\n",
              " (0.25, 0.8478953934297463),\n",
              " (0.26, 0.848357436584577),\n",
              " (0.27, 0.8488194797394076),\n",
              " (0.28, 0.849789770364552),\n",
              " (0.29, 0.850390426465832),\n",
              " (0.3, 0.8513145127754932),\n",
              " (0.31, 0.8516841472993577),\n",
              " (0.32, 0.852562029293536),\n",
              " (0.33, 0.853255094025782),\n",
              " (0.34, 0.8535323199186804),\n",
              " (0.35, 0.853948158758028),\n",
              " (0.36, 0.8546412234902739),\n",
              " (0.37, 0.8557039227463845),\n",
              " (0.38, 0.856027352954766),\n",
              " (0.39, 0.8570900522108765),\n",
              " (0.4, 0.8576445039966732),\n",
              " (0.41, 0.8581989557824701),\n",
              " (0.42, 0.8589844291456822),\n",
              " (0.43, 0.8593540636695467),\n",
              " (0.44, 0.8597236981934112),\n",
              " (0.45, 0.8594926766159959),\n",
              " (0.46, 0.8600933327172758),\n",
              " (0.47, 0.8607401931340387),\n",
              " (0.48, 0.8615718708127339),\n",
              " (0.49, 0.8615256664972508),\n",
              " (0.5, 0.8617104837591831),\n",
              " (0.51, 0.8619877096520815),\n",
              " (0.52, 0.8619415053365984),\n",
              " (0.53, 0.8618953010211153),\n",
              " (0.54, 0.8622187312294969),\n",
              " (0.55, 0.8623111398604629),\n",
              " (0.56, 0.8620339139675646),\n",
              " (0.57, 0.8624497528069122),\n",
              " (0.58, 0.8624035484914291),\n",
              " (0.59, 0.8613870535508017),\n",
              " (0.6, 0.8606477845030726),\n",
              " (0.61, 0.8604629672411404),\n",
              " (0.62, 0.8600933327172758),\n",
              " (0.63, 0.8582451600979532),\n",
              " (0.64, 0.8570900522108765),\n",
              " (0.65, 0.856720417687012),\n",
              " (0.66, 0.8554266968534862),\n",
              " (0.67, 0.8537171371806127),\n",
              " (0.68, 0.8524696206625699),\n",
              " (0.69, 0.8508986739361456),\n",
              " (0.7, 0.8487732754239246),\n",
              " (0.71, 0.8453541560781777),\n",
              " (0.72, 0.8420274453633969),\n",
              " (0.73, 0.8393475950653791),\n",
              " (0.74, 0.836529131820912),\n",
              " (0.75, 0.8331562167906482),\n",
              " (0.76, 0.8292288499745877),\n",
              " (0.77, 0.8241463752714504),\n",
              " (0.78, 0.8187404703599316),\n",
              " (0.79, 0.8126415007161669),\n",
              " (0.8, 0.8052026059233932),\n",
              " (0.81, 0.7960079471422631),\n",
              " (0.82, 0.7856119761585733),\n",
              " (0.83, 0.771473455620755),\n",
              " (0.84, 0.7554867624636141),\n",
              " (0.85, 0.7378829182645659),\n",
              " (0.86, 0.7133946310585408),\n",
              " (0.87, 0.6835928475719633),\n",
              " (0.88, 0.6465369865545442),\n",
              " (0.89, 0.6040290163101234),\n",
              " (0.9, 0.5547290116896918),\n",
              " (0.91, 0.4979439079610036),\n",
              " (0.92, 0.436769394261424),\n",
              " (0.93, 0.3782285265443792),\n",
              " (0.94, 0.3198724760892667),\n",
              " (0.95, 0.2645659104560366),\n",
              " (0.96, 0.2155893360439865),\n",
              " (0.97, 0.18421660583098462),\n",
              " (0.98, 0.16725962204869935),\n",
              " (0.99, 0.1617151041907314),\n",
              " (1.0, 0.1617151041907314)]"
            ]
          },
          "metadata": {},
          "execution_count": 191
        }
      ]
    },
    {
      "cell_type": "code",
      "source": [
        "threshold = 0.58"
      ],
      "metadata": {
        "id": "RFJgoyoMiqE7"
      },
      "execution_count": null,
      "outputs": []
    },
    {
      "cell_type": "code",
      "source": [
        "preds_class = 1 * (preds[:, 1] > threshold)"
      ],
      "metadata": {
        "id": "8RPt1vU-jGvm"
      },
      "execution_count": null,
      "outputs": []
    },
    {
      "cell_type": "code",
      "source": [
        "X_test[\"preds\"] = preds_class"
      ],
      "metadata": {
        "id": "aM4Su3oAjGyK"
      },
      "execution_count": null,
      "outputs": []
    },
    {
      "cell_type": "code",
      "source": [
        "print(classification_report(X_test[\"rating\"], X_test[\"preds\"]))"
      ],
      "metadata": {
        "colab": {
          "base_uri": "https://localhost:8080/"
        },
        "id": "yhOQu6ehjPV1",
        "outputId": "6ff86e99-f23b-472e-b679-1f87b92c8d0f"
      },
      "execution_count": null,
      "outputs": [
        {
          "output_type": "stream",
          "name": "stdout",
          "text": [
            "              precision    recall  f1-score   support\n",
            "\n",
            "           0       0.64      0.33      0.44      3500\n",
            "           1       0.88      0.96      0.92     18143\n",
            "\n",
            "    accuracy                           0.86     21643\n",
            "   macro avg       0.76      0.65      0.68     21643\n",
            "weighted avg       0.84      0.86      0.84     21643\n",
            "\n"
          ]
        }
      ]
    },
    {
      "cell_type": "code",
      "source": [
        "conf_matrix = confusion_matrix(X_test[\"rating\"], X_test[\"preds\"])\n",
        "ConfusionMatrixDisplay(conf_matrix, ).plot()"
      ],
      "metadata": {
        "colab": {
          "base_uri": "https://localhost:8080/",
          "height": 467
        },
        "id": "9IO9pCz1jG1A",
        "outputId": "1106ab5e-accc-4cb8-c5df-a34fcd19a10b"
      },
      "execution_count": null,
      "outputs": [
        {
          "output_type": "execute_result",
          "data": {
            "text/plain": [
              "<sklearn.metrics._plot.confusion_matrix.ConfusionMatrixDisplay at 0x7f4ac3ffdc00>"
            ]
          },
          "metadata": {},
          "execution_count": 197
        },
        {
          "output_type": "display_data",
          "data": {
            "text/plain": [
              "<Figure size 640x480 with 2 Axes>"
            ],
            "image/png": "[encoded data removed]"
          },
          "metadata": {}
        }
      ]
    },
    {
      "cell_type": "markdown",
      "source": [
        "### Applying CountVectorizer\n",
        "\n",
        "the quality is poorer than that of Word2Vec"
      ],
      "metadata": {
        "id": "NvunXR8Voold"
      }
    },
    {
      "cell_type": "code",
      "source": [
        "count = CountVectorizer(max_features=500)"
      ],
      "metadata": {
        "id": "lxB3yXInjG3o"
      },
      "execution_count": null,
      "outputs": []
    },
    {
      "cell_type": "code",
      "source": [
        "count.fit(X_train[\"lemmatized_review\"])"
      ],
      "metadata": {
        "colab": {
          "base_uri": "https://localhost:8080/",
          "height": 75
        },
        "id": "2vIflaLPjG6g",
        "outputId": "4438dc4b-861e-4bcc-f8ec-07f19a1c968e"
      },
      "execution_count": null,
      "outputs": [
        {
          "output_type": "execute_result",
          "data": {
            "text/plain": [
              "CountVectorizer(max_features=500)"
            ],
            "text/html": [
              "<style>#sk-container-id-8 {color: black;background-color: white;}#sk-container-id-8 pre{padding: 0;}#sk-container-id-8 div.sk-toggleable {background-color: white;}#sk-container-id-8 label.sk-toggleable__label {cursor: pointer;display: block;width: 100%;margin-bottom: 0;padding: 0.3em;box-sizing: border-box;text-align: center;}#sk-container-id-8 label.sk-toggleable__label-arrow:before {content: \"▸\";float: left;margin-right: 0.25em;color: #696969;}#sk-container-id-8 label.sk-toggleable__label-arrow:hover:before {color: black;}#sk-container-id-8 div.sk-estimator:hover label.sk-toggleable__label-arrow:before {color: black;}#sk-container-id-8 div.sk-toggleable__content {max-height: 0;max-width: 0;overflow: hidden;text-align: left;background-color: #f0f8ff;}#sk-container-id-8 div.sk-toggleable__content pre {margin: 0.2em;color: black;border-radius: 0.25em;background-color: #f0f8ff;}#sk-container-id-8 input.sk-toggleable__control:checked~div.sk-toggleable__content {max-height: 200px;max-width: 100%;overflow: auto;}#sk-container-id-8 input.sk-toggleable__control:checked~label.sk-toggleable__label-arrow:before {content: \"▾\";}#sk-container-id-8 div.sk-estimator input.sk-toggleable__control:checked~label.sk-toggleable__label {background-color: #d4ebff;}#sk-container-id-8 div.sk-label input.sk-toggleable__control:checked~label.sk-toggleable__label {background-color: #d4ebff;}#sk-container-id-8 input.sk-hidden--visually {border: 0;clip: rect(1px 1px 1px 1px);clip: rect(1px, 1px, 1px, 1px);height: 1px;margin: -1px;overflow: hidden;padding: 0;position: absolute;width: 1px;}#sk-container-id-8 div.sk-estimator {font-family: monospace;background-color: #f0f8ff;border: 1px dotted black;border-radius: 0.25em;box-sizing: border-box;margin-bottom: 0.5em;}#sk-container-id-8 div.sk-estimator:hover {background-color: #d4ebff;}#sk-container-id-8 div.sk-parallel-item::after {content: \"\";width: 100%;border-bottom: 1px solid gray;flex-grow: 1;}#sk-container-id-8 div.sk-label:hover label.sk-toggleable__label {background-color: #d4ebff;}#sk-container-id-8 div.sk-serial::before {content: \"\";position: absolute;border-left: 1px solid gray;box-sizing: border-box;top: 0;bottom: 0;left: 50%;z-index: 0;}#sk-container-id-8 div.sk-serial {display: flex;flex-direction: column;align-items: center;background-color: white;padding-right: 0.2em;padding-left: 0.2em;position: relative;}#sk-container-id-8 div.sk-item {position: relative;z-index: 1;}#sk-container-id-8 div.sk-parallel {display: flex;align-items: stretch;justify-content: center;background-color: white;position: relative;}#sk-container-id-8 div.sk-item::before, #sk-container-id-8 div.sk-parallel-item::before {content: \"\";position: absolute;border-left: 1px solid gray;box-sizing: border-box;top: 0;bottom: 0;left: 50%;z-index: -1;}#sk-container-id-8 div.sk-parallel-item {display: flex;flex-direction: column;z-index: 1;position: relative;background-color: white;}#sk-container-id-8 div.sk-parallel-item:first-child::after {align-self: flex-end;width: 50%;}#sk-container-id-8 div.sk-parallel-item:last-child::after {align-self: flex-start;width: 50%;}#sk-container-id-8 div.sk-parallel-item:only-child::after {width: 0;}#sk-container-id-8 div.sk-dashed-wrapped {border: 1px dashed gray;margin: 0 0.4em 0.5em 0.4em;box-sizing: border-box;padding-bottom: 0.4em;background-color: white;}#sk-container-id-8 div.sk-label label {font-family: monospace;font-weight: bold;display: inline-block;line-height: 1.2em;}#sk-container-id-8 div.sk-label-container {text-align: center;}#sk-container-id-8 div.sk-container {/* jupyter's `normalize.less` sets `[hidden] { display: none; }` but bootstrap.min.css set `[hidden] { display: none !important; }` so we also need the `!important` here to be able to override the default hidden behavior on the sphinx rendered scikit-learn.org. See: https://github.com/scikit-learn/scikit-learn/issues/21755 */display: inline-block !important;position: relative;}#sk-container-id-8 div.sk-text-repr-fallback {display: none;}</style><div id=\"sk-container-id-8\" class=\"sk-top-container\"><div class=\"sk-text-repr-fallback\"><pre>CountVectorizer(max_features=500)</pre><b>In a Jupyter environment, please rerun this cell to show the HTML representation or trust the notebook. <br />On GitHub, the HTML representation is unable to render, please try loading this page with nbviewer.org.</b></div><div class=\"sk-container\" hidden><div class=\"sk-item\"><div class=\"sk-estimator sk-toggleable\"><input class=\"sk-toggleable__control sk-hidden--visually\" id=\"sk-estimator-id-8\" type=\"checkbox\" checked><label for=\"sk-estimator-id-8\" class=\"sk-toggleable__label sk-toggleable__label-arrow\">CountVectorizer</label><div class=\"sk-toggleable__content\"><pre>CountVectorizer(max_features=500)</pre></div></div></div></div></div>"
            ]
          },
          "metadata": {},
          "execution_count": 199
        }
      ]
    },
    {
      "cell_type": "code",
      "source": [
        "X_train_count = count.transform(X_train[\"lemmatized_review\"])"
      ],
      "metadata": {
        "id": "lqqCZml9jG9W"
      },
      "execution_count": null,
      "outputs": []
    },
    {
      "cell_type": "code",
      "source": [
        "X_train_count"
      ],
      "metadata": {
        "colab": {
          "base_uri": "https://localhost:8080/"
        },
        "id": "mpJJdO9LiqHw",
        "outputId": "a2842edc-adeb-4d52-8c33-fdd4733545a3"
      },
      "execution_count": null,
      "outputs": [
        {
          "output_type": "execute_result",
          "data": {
            "text/plain": [
              "<50000x500 sparse matrix of type '<class 'numpy.int64'>'\n",
              "\twith 1734961 stored elements in Compressed Sparse Row format>"
            ]
          },
          "metadata": {},
          "execution_count": 201
        }
      ]
    },
    {
      "cell_type": "code",
      "source": [
        "X_test_count = count.transform(X_test[\"lemmatized_review\"])"
      ],
      "metadata": {
        "id": "TEGOJ6EMpcTH"
      },
      "execution_count": null,
      "outputs": []
    },
    {
      "cell_type": "code",
      "source": [
        "%%time\n",
        "model = LGBMClassifier(**params)\n",
        "model.fit(pd.DataFrame(X_train_count.toarray()), X_train[\"rating\"])\n",
        "preds = model.predict_proba(pd.DataFrame(X_test_count.toarray()))\n",
        "score = roc_auc_score(X_test[\"rating\"], preds[:, 1])\n",
        "print(score)"
      ],
      "metadata": {
        "colab": {
          "base_uri": "https://localhost:8080/"
        },
        "id": "rhPybx5Knw_w",
        "outputId": "d948f6c1-4e98-4464-8f50-53c3585dbd5c"
      },
      "execution_count": null,
      "outputs": [
        {
          "output_type": "stream",
          "name": "stdout",
          "text": [
            "0.7291526917110889\n",
            "CPU times: user 13.4 s, sys: 311 ms, total: 13.7 s\n",
            "Wall time: 8.76 s\n"
          ]
        }
      ]
    }
  ]
}